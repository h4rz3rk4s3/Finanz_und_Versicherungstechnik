{
 "cells": [
  {
   "cell_type": "code",
   "execution_count": 102,
   "id": "801ccaa2-ea41-4d86-9faa-b55230c0468e",
   "metadata": {},
   "outputs": [],
   "source": [
    "import pandas as pd\n",
    "import numpy as np\n",
    "\n",
    "import plotly.express as px\n",
    "import plotly.graph_objects as go\n",
    "from plotly.subplots import make_subplots"
   ]
  },
  {
   "cell_type": "code",
   "execution_count": 103,
   "id": "7c74b8bd-c4bc-4094-a40e-4d6026afde9d",
   "metadata": {},
   "outputs": [
    {
     "data": {
      "text/html": [
       "<div>\n",
       "<style scoped>\n",
       "    .dataframe tbody tr th:only-of-type {\n",
       "        vertical-align: middle;\n",
       "    }\n",
       "\n",
       "    .dataframe tbody tr th {\n",
       "        vertical-align: top;\n",
       "    }\n",
       "\n",
       "    .dataframe thead th {\n",
       "        text-align: right;\n",
       "    }\n",
       "</style>\n",
       "<table border=\"1\" class=\"dataframe\">\n",
       "  <thead>\n",
       "    <tr style=\"text-align: right;\">\n",
       "      <th></th>\n",
       "      <th>date</th>\n",
       "      <th>c_class_average_price</th>\n",
       "      <th>unit_c</th>\n",
       "      <th>E_class_average_price</th>\n",
       "      <th>unit_e</th>\n",
       "      <th>s_class_average_price</th>\n",
       "      <th>unit_s</th>\n",
       "      <th>cl_class_average_price</th>\n",
       "      <th>unit_cl</th>\n",
       "      <th>sl_class_average_price</th>\n",
       "      <th>unit_sl</th>\n",
       "      <th>m_class_average_price</th>\n",
       "      <th>unit_m</th>\n",
       "    </tr>\n",
       "  </thead>\n",
       "  <tbody>\n",
       "    <tr>\n",
       "      <th>0</th>\n",
       "      <td>mag-06</td>\n",
       "      <td>38917</td>\n",
       "      <td>4329.0</td>\n",
       "      <td>61420</td>\n",
       "      <td>4070.0</td>\n",
       "      <td>101100</td>\n",
       "      <td>2526.0</td>\n",
       "      <td>132050</td>\n",
       "      <td>46.0</td>\n",
       "      <td>134225</td>\n",
       "      <td>1056.0</td>\n",
       "      <td>44900</td>\n",
       "      <td>2278.0</td>\n",
       "    </tr>\n",
       "    <tr>\n",
       "      <th>1</th>\n",
       "      <td>giu-06</td>\n",
       "      <td>38917</td>\n",
       "      <td>4250.0</td>\n",
       "      <td>61420</td>\n",
       "      <td>4213.0</td>\n",
       "      <td>101100</td>\n",
       "      <td>2407.0</td>\n",
       "      <td>132050</td>\n",
       "      <td>63.0</td>\n",
       "      <td>134225</td>\n",
       "      <td>866.0</td>\n",
       "      <td>44900</td>\n",
       "      <td>2601.0</td>\n",
       "    </tr>\n",
       "    <tr>\n",
       "      <th>2</th>\n",
       "      <td>lug-06</td>\n",
       "      <td>38917</td>\n",
       "      <td>5285.0</td>\n",
       "      <td>61420</td>\n",
       "      <td>4479.0</td>\n",
       "      <td>101100</td>\n",
       "      <td>2233.0</td>\n",
       "      <td>132050</td>\n",
       "      <td>52.0</td>\n",
       "      <td>134225</td>\n",
       "      <td>768.0</td>\n",
       "      <td>44900</td>\n",
       "      <td>2446.0</td>\n",
       "    </tr>\n",
       "    <tr>\n",
       "      <th>3</th>\n",
       "      <td>ago-06</td>\n",
       "      <td>38917</td>\n",
       "      <td>4652.0</td>\n",
       "      <td>61420</td>\n",
       "      <td>3955.0</td>\n",
       "      <td>101100</td>\n",
       "      <td>2427.0</td>\n",
       "      <td>132050</td>\n",
       "      <td>54.0</td>\n",
       "      <td>134225</td>\n",
       "      <td>713.0</td>\n",
       "      <td>44900</td>\n",
       "      <td>2312.0</td>\n",
       "    </tr>\n",
       "    <tr>\n",
       "      <th>4</th>\n",
       "      <td>set-06</td>\n",
       "      <td>38917</td>\n",
       "      <td>4238.0</td>\n",
       "      <td>61420</td>\n",
       "      <td>4112.0</td>\n",
       "      <td>101100</td>\n",
       "      <td>2357.0</td>\n",
       "      <td>132050</td>\n",
       "      <td>41.0</td>\n",
       "      <td>134225</td>\n",
       "      <td>557.0</td>\n",
       "      <td>44900</td>\n",
       "      <td>2706.0</td>\n",
       "    </tr>\n",
       "    <tr>\n",
       "      <th>5</th>\n",
       "      <td>ott-06</td>\n",
       "      <td>38917</td>\n",
       "      <td>3784.0</td>\n",
       "      <td>61420</td>\n",
       "      <td>4895.0</td>\n",
       "      <td>101100</td>\n",
       "      <td>2518.0</td>\n",
       "      <td>132050</td>\n",
       "      <td>98.0</td>\n",
       "      <td>134225</td>\n",
       "      <td>554.0</td>\n",
       "      <td>44900</td>\n",
       "      <td>2770.0</td>\n",
       "    </tr>\n",
       "    <tr>\n",
       "      <th>6</th>\n",
       "      <td>nov-06</td>\n",
       "      <td>38917</td>\n",
       "      <td>4435.0</td>\n",
       "      <td>61420</td>\n",
       "      <td>4918.0</td>\n",
       "      <td>101100</td>\n",
       "      <td>2780.0</td>\n",
       "      <td>132050</td>\n",
       "      <td>391.0</td>\n",
       "      <td>134225</td>\n",
       "      <td>456.0</td>\n",
       "      <td>44900</td>\n",
       "      <td>3183.0</td>\n",
       "    </tr>\n",
       "    <tr>\n",
       "      <th>7</th>\n",
       "      <td>dic-06</td>\n",
       "      <td>38917</td>\n",
       "      <td>5197.0</td>\n",
       "      <td>61420</td>\n",
       "      <td>7116.0</td>\n",
       "      <td>101100</td>\n",
       "      <td>2987.0</td>\n",
       "      <td>132050</td>\n",
       "      <td>347.0</td>\n",
       "      <td>134225</td>\n",
       "      <td>539.0</td>\n",
       "      <td>44900</td>\n",
       "      <td>3889.0</td>\n",
       "    </tr>\n",
       "    <tr>\n",
       "      <th>8</th>\n",
       "      <td>gen-07</td>\n",
       "      <td>36650</td>\n",
       "      <td>3928.0</td>\n",
       "      <td>63443</td>\n",
       "      <td>3375.0</td>\n",
       "      <td>124750</td>\n",
       "      <td>2078.0</td>\n",
       "      <td>122825</td>\n",
       "      <td>258.0</td>\n",
       "      <td>136175</td>\n",
       "      <td>369.0</td>\n",
       "      <td>56040</td>\n",
       "      <td>2351.0</td>\n",
       "    </tr>\n",
       "    <tr>\n",
       "      <th>10</th>\n",
       "      <td>mar-07</td>\n",
       "      <td>36650</td>\n",
       "      <td>4486.0</td>\n",
       "      <td>63443</td>\n",
       "      <td>4019.0</td>\n",
       "      <td>124750</td>\n",
       "      <td>2440.0</td>\n",
       "      <td>122825</td>\n",
       "      <td>295.0</td>\n",
       "      <td>136175</td>\n",
       "      <td>670.0</td>\n",
       "      <td>56040</td>\n",
       "      <td>2619.0</td>\n",
       "    </tr>\n",
       "    <tr>\n",
       "      <th>11</th>\n",
       "      <td>apr-07</td>\n",
       "      <td>36650</td>\n",
       "      <td>5131.0</td>\n",
       "      <td>63443</td>\n",
       "      <td>4011.0</td>\n",
       "      <td>124750</td>\n",
       "      <td>2067.0</td>\n",
       "      <td>122825</td>\n",
       "      <td>330.0</td>\n",
       "      <td>136175</td>\n",
       "      <td>703.0</td>\n",
       "      <td>56040</td>\n",
       "      <td>2382.0</td>\n",
       "    </tr>\n",
       "    <tr>\n",
       "      <th>13</th>\n",
       "      <td>giu-07</td>\n",
       "      <td>36650</td>\n",
       "      <td>4776.0</td>\n",
       "      <td>63443</td>\n",
       "      <td>3686.0</td>\n",
       "      <td>124750</td>\n",
       "      <td>1701.0</td>\n",
       "      <td>122825</td>\n",
       "      <td>266.0</td>\n",
       "      <td>136175</td>\n",
       "      <td>594.0</td>\n",
       "      <td>56040</td>\n",
       "      <td>2551.0</td>\n",
       "    </tr>\n",
       "    <tr>\n",
       "      <th>14</th>\n",
       "      <td>lug-07</td>\n",
       "      <td>36650</td>\n",
       "      <td>4291.0</td>\n",
       "      <td>63443</td>\n",
       "      <td>3227.0</td>\n",
       "      <td>124750</td>\n",
       "      <td>2521.0</td>\n",
       "      <td>122825</td>\n",
       "      <td>344.0</td>\n",
       "      <td>136175</td>\n",
       "      <td>551.0</td>\n",
       "      <td>56040</td>\n",
       "      <td>3015.0</td>\n",
       "    </tr>\n",
       "    <tr>\n",
       "      <th>15</th>\n",
       "      <td>ago-07</td>\n",
       "      <td>36650</td>\n",
       "      <td>4565.0</td>\n",
       "      <td>63443</td>\n",
       "      <td>3718.0</td>\n",
       "      <td>124750</td>\n",
       "      <td>2467.0</td>\n",
       "      <td>122825</td>\n",
       "      <td>352.0</td>\n",
       "      <td>136175</td>\n",
       "      <td>485.0</td>\n",
       "      <td>56040</td>\n",
       "      <td>3062.0</td>\n",
       "    </tr>\n",
       "    <tr>\n",
       "      <th>17</th>\n",
       "      <td>ott-07</td>\n",
       "      <td>36650</td>\n",
       "      <td>7646.0</td>\n",
       "      <td>63443</td>\n",
       "      <td>4176.0</td>\n",
       "      <td>124750</td>\n",
       "      <td>2100.0</td>\n",
       "      <td>122825</td>\n",
       "      <td>318.0</td>\n",
       "      <td>136175</td>\n",
       "      <td>319.0</td>\n",
       "      <td>56040</td>\n",
       "      <td>2942.0</td>\n",
       "    </tr>\n",
       "    <tr>\n",
       "      <th>18</th>\n",
       "      <td>nov-07</td>\n",
       "      <td>36650</td>\n",
       "      <td>6920.0</td>\n",
       "      <td>63443</td>\n",
       "      <td>4464.0</td>\n",
       "      <td>124750</td>\n",
       "      <td>2106.0</td>\n",
       "      <td>122825</td>\n",
       "      <td>329.0</td>\n",
       "      <td>136175</td>\n",
       "      <td>488.0</td>\n",
       "      <td>56040</td>\n",
       "      <td>3015.0</td>\n",
       "    </tr>\n",
       "    <tr>\n",
       "      <th>20</th>\n",
       "      <td>gen-08</td>\n",
       "      <td>37256</td>\n",
       "      <td>4647.0</td>\n",
       "      <td>62818</td>\n",
       "      <td>2980.0</td>\n",
       "      <td>128320</td>\n",
       "      <td>1641.0</td>\n",
       "      <td>176000</td>\n",
       "      <td>253.0</td>\n",
       "      <td>136250</td>\n",
       "      <td>389.0</td>\n",
       "      <td>56136</td>\n",
       "      <td>3237.0</td>\n",
       "    </tr>\n",
       "    <tr>\n",
       "      <th>22</th>\n",
       "      <td>mar-08</td>\n",
       "      <td>37256</td>\n",
       "      <td>6713.0</td>\n",
       "      <td>62818</td>\n",
       "      <td>3039.0</td>\n",
       "      <td>128320</td>\n",
       "      <td>1622.0</td>\n",
       "      <td>176000</td>\n",
       "      <td>297.0</td>\n",
       "      <td>136250</td>\n",
       "      <td>379.0</td>\n",
       "      <td>56136</td>\n",
       "      <td>3189.0</td>\n",
       "    </tr>\n",
       "    <tr>\n",
       "      <th>23</th>\n",
       "      <td>apr-08</td>\n",
       "      <td>37256</td>\n",
       "      <td>6850.0</td>\n",
       "      <td>62818</td>\n",
       "      <td>3208.0</td>\n",
       "      <td>128320</td>\n",
       "      <td>1775.0</td>\n",
       "      <td>176000</td>\n",
       "      <td>275.0</td>\n",
       "      <td>136250</td>\n",
       "      <td>518.0</td>\n",
       "      <td>56136</td>\n",
       "      <td>2582.0</td>\n",
       "    </tr>\n",
       "    <tr>\n",
       "      <th>24</th>\n",
       "      <td>mag-08</td>\n",
       "      <td>37256</td>\n",
       "      <td>4842.0</td>\n",
       "      <td>62818</td>\n",
       "      <td>2275.0</td>\n",
       "      <td>128320</td>\n",
       "      <td>1684.0</td>\n",
       "      <td>176000</td>\n",
       "      <td>250.0</td>\n",
       "      <td>136250</td>\n",
       "      <td>1083.0</td>\n",
       "      <td>56136</td>\n",
       "      <td>2706.0</td>\n",
       "    </tr>\n",
       "    <tr>\n",
       "      <th>25</th>\n",
       "      <td>giu-08</td>\n",
       "      <td>37256</td>\n",
       "      <td>5977.0</td>\n",
       "      <td>62818</td>\n",
       "      <td>4360.0</td>\n",
       "      <td>128320</td>\n",
       "      <td>1384.0</td>\n",
       "      <td>176000</td>\n",
       "      <td>180.0</td>\n",
       "      <td>136250</td>\n",
       "      <td>667.0</td>\n",
       "      <td>56136</td>\n",
       "      <td>2601.0</td>\n",
       "    </tr>\n",
       "    <tr>\n",
       "      <th>26</th>\n",
       "      <td>lug-08</td>\n",
       "      <td>37256</td>\n",
       "      <td>6241.0</td>\n",
       "      <td>62818</td>\n",
       "      <td>4938.0</td>\n",
       "      <td>128320</td>\n",
       "      <td>1577.0</td>\n",
       "      <td>176000</td>\n",
       "      <td>220.0</td>\n",
       "      <td>136250</td>\n",
       "      <td>501.0</td>\n",
       "      <td>56136</td>\n",
       "      <td>2691.0</td>\n",
       "    </tr>\n",
       "    <tr>\n",
       "      <th>27</th>\n",
       "      <td>ago-08</td>\n",
       "      <td>37256</td>\n",
       "      <td>6990.0</td>\n",
       "      <td>62818</td>\n",
       "      <td>2681.0</td>\n",
       "      <td>128320</td>\n",
       "      <td>1700.0</td>\n",
       "      <td>176000</td>\n",
       "      <td>232.0</td>\n",
       "      <td>136250</td>\n",
       "      <td>477.0</td>\n",
       "      <td>56136</td>\n",
       "      <td>2430.0</td>\n",
       "    </tr>\n",
       "    <tr>\n",
       "      <th>28</th>\n",
       "      <td>set-08</td>\n",
       "      <td>37256</td>\n",
       "      <td>6772.0</td>\n",
       "      <td>62818</td>\n",
       "      <td>2968.0</td>\n",
       "      <td>128320</td>\n",
       "      <td>1591.0</td>\n",
       "      <td>176000</td>\n",
       "      <td>221.0</td>\n",
       "      <td>136250</td>\n",
       "      <td>357.0</td>\n",
       "      <td>56136</td>\n",
       "      <td>2981.0</td>\n",
       "    </tr>\n",
       "    <tr>\n",
       "      <th>29</th>\n",
       "      <td>ott-08</td>\n",
       "      <td>37256</td>\n",
       "      <td>4594.0</td>\n",
       "      <td>62818</td>\n",
       "      <td>2098.0</td>\n",
       "      <td>128320</td>\n",
       "      <td>1208.0</td>\n",
       "      <td>176000</td>\n",
       "      <td>223.0</td>\n",
       "      <td>136250</td>\n",
       "      <td>276.0</td>\n",
       "      <td>56136</td>\n",
       "      <td>3150.0</td>\n",
       "    </tr>\n",
       "    <tr>\n",
       "      <th>30</th>\n",
       "      <td>nov-08</td>\n",
       "      <td>37256</td>\n",
       "      <td>4422.0</td>\n",
       "      <td>62818</td>\n",
       "      <td>2264.0</td>\n",
       "      <td>128320</td>\n",
       "      <td>997.0</td>\n",
       "      <td>176000</td>\n",
       "      <td>187.0</td>\n",
       "      <td>136250</td>\n",
       "      <td>189.0</td>\n",
       "      <td>56136</td>\n",
       "      <td>2911.0</td>\n",
       "    </tr>\n",
       "    <tr>\n",
       "      <th>31</th>\n",
       "      <td>dic-08</td>\n",
       "      <td>37256</td>\n",
       "      <td>6090.0</td>\n",
       "      <td>62818</td>\n",
       "      <td>3464.0</td>\n",
       "      <td>128320</td>\n",
       "      <td>1075.0</td>\n",
       "      <td>176000</td>\n",
       "      <td>147.0</td>\n",
       "      <td>136250</td>\n",
       "      <td>263.0</td>\n",
       "      <td>56136</td>\n",
       "      <td>2761.0</td>\n",
       "    </tr>\n",
       "    <tr>\n",
       "      <th>32</th>\n",
       "      <td>gen-09</td>\n",
       "      <td>37256</td>\n",
       "      <td>3032.0</td>\n",
       "      <td>64868</td>\n",
       "      <td>1768.0</td>\n",
       "      <td>131890</td>\n",
       "      <td>516.0</td>\n",
       "      <td>151550</td>\n",
       "      <td>100.0</td>\n",
       "      <td>138675</td>\n",
       "      <td>133.0</td>\n",
       "      <td>57650</td>\n",
       "      <td>1355.0</td>\n",
       "    </tr>\n",
       "    <tr>\n",
       "      <th>33</th>\n",
       "      <td>feb-09</td>\n",
       "      <td>37256</td>\n",
       "      <td>3990.0</td>\n",
       "      <td>64868</td>\n",
       "      <td>2104.0</td>\n",
       "      <td>131890</td>\n",
       "      <td>985.0</td>\n",
       "      <td>151550</td>\n",
       "      <td>232.0</td>\n",
       "      <td>138675</td>\n",
       "      <td>462.0</td>\n",
       "      <td>57650</td>\n",
       "      <td>1353.0</td>\n",
       "    </tr>\n",
       "    <tr>\n",
       "      <th>34</th>\n",
       "      <td>mar-09</td>\n",
       "      <td>37256</td>\n",
       "      <td>5008.0</td>\n",
       "      <td>64868</td>\n",
       "      <td>1978.0</td>\n",
       "      <td>131890</td>\n",
       "      <td>731.0</td>\n",
       "      <td>151550</td>\n",
       "      <td>68.0</td>\n",
       "      <td>138675</td>\n",
       "      <td>308.0</td>\n",
       "      <td>57650</td>\n",
       "      <td>1675.0</td>\n",
       "    </tr>\n",
       "  </tbody>\n",
       "</table>\n",
       "</div>"
      ],
      "text/plain": [
       "      date  c_class_average_price  unit_c  E_class_average_price  unit_e  \\\n",
       "0   mag-06                  38917  4329.0                  61420  4070.0   \n",
       "1   giu-06                  38917  4250.0                  61420  4213.0   \n",
       "2   lug-06                  38917  5285.0                  61420  4479.0   \n",
       "3   ago-06                  38917  4652.0                  61420  3955.0   \n",
       "4   set-06                  38917  4238.0                  61420  4112.0   \n",
       "5   ott-06                  38917  3784.0                  61420  4895.0   \n",
       "6   nov-06                  38917  4435.0                  61420  4918.0   \n",
       "7   dic-06                  38917  5197.0                  61420  7116.0   \n",
       "8   gen-07                  36650  3928.0                  63443  3375.0   \n",
       "10  mar-07                  36650  4486.0                  63443  4019.0   \n",
       "11  apr-07                  36650  5131.0                  63443  4011.0   \n",
       "13  giu-07                  36650  4776.0                  63443  3686.0   \n",
       "14  lug-07                  36650  4291.0                  63443  3227.0   \n",
       "15  ago-07                  36650  4565.0                  63443  3718.0   \n",
       "17  ott-07                  36650  7646.0                  63443  4176.0   \n",
       "18  nov-07                  36650  6920.0                  63443  4464.0   \n",
       "20  gen-08                  37256  4647.0                  62818  2980.0   \n",
       "22  mar-08                  37256  6713.0                  62818  3039.0   \n",
       "23  apr-08                  37256  6850.0                  62818  3208.0   \n",
       "24  mag-08                  37256  4842.0                  62818  2275.0   \n",
       "25  giu-08                  37256  5977.0                  62818  4360.0   \n",
       "26  lug-08                  37256  6241.0                  62818  4938.0   \n",
       "27  ago-08                  37256  6990.0                  62818  2681.0   \n",
       "28  set-08                  37256  6772.0                  62818  2968.0   \n",
       "29  ott-08                  37256  4594.0                  62818  2098.0   \n",
       "30  nov-08                  37256  4422.0                  62818  2264.0   \n",
       "31  dic-08                  37256  6090.0                  62818  3464.0   \n",
       "32  gen-09                  37256  3032.0                  64868  1768.0   \n",
       "33  feb-09                  37256  3990.0                  64868  2104.0   \n",
       "34  mar-09                  37256  5008.0                  64868  1978.0   \n",
       "\n",
       "    s_class_average_price  unit_s  cl_class_average_price  unit_cl  \\\n",
       "0                  101100  2526.0                  132050     46.0   \n",
       "1                  101100  2407.0                  132050     63.0   \n",
       "2                  101100  2233.0                  132050     52.0   \n",
       "3                  101100  2427.0                  132050     54.0   \n",
       "4                  101100  2357.0                  132050     41.0   \n",
       "5                  101100  2518.0                  132050     98.0   \n",
       "6                  101100  2780.0                  132050    391.0   \n",
       "7                  101100  2987.0                  132050    347.0   \n",
       "8                  124750  2078.0                  122825    258.0   \n",
       "10                 124750  2440.0                  122825    295.0   \n",
       "11                 124750  2067.0                  122825    330.0   \n",
       "13                 124750  1701.0                  122825    266.0   \n",
       "14                 124750  2521.0                  122825    344.0   \n",
       "15                 124750  2467.0                  122825    352.0   \n",
       "17                 124750  2100.0                  122825    318.0   \n",
       "18                 124750  2106.0                  122825    329.0   \n",
       "20                 128320  1641.0                  176000    253.0   \n",
       "22                 128320  1622.0                  176000    297.0   \n",
       "23                 128320  1775.0                  176000    275.0   \n",
       "24                 128320  1684.0                  176000    250.0   \n",
       "25                 128320  1384.0                  176000    180.0   \n",
       "26                 128320  1577.0                  176000    220.0   \n",
       "27                 128320  1700.0                  176000    232.0   \n",
       "28                 128320  1591.0                  176000    221.0   \n",
       "29                 128320  1208.0                  176000    223.0   \n",
       "30                 128320   997.0                  176000    187.0   \n",
       "31                 128320  1075.0                  176000    147.0   \n",
       "32                 131890   516.0                  151550    100.0   \n",
       "33                 131890   985.0                  151550    232.0   \n",
       "34                 131890   731.0                  151550     68.0   \n",
       "\n",
       "    sl_class_average_price  unit_sl  m_class_average_price  unit_m  \n",
       "0                   134225   1056.0                  44900  2278.0  \n",
       "1                   134225    866.0                  44900  2601.0  \n",
       "2                   134225    768.0                  44900  2446.0  \n",
       "3                   134225    713.0                  44900  2312.0  \n",
       "4                   134225    557.0                  44900  2706.0  \n",
       "5                   134225    554.0                  44900  2770.0  \n",
       "6                   134225    456.0                  44900  3183.0  \n",
       "7                   134225    539.0                  44900  3889.0  \n",
       "8                   136175    369.0                  56040  2351.0  \n",
       "10                  136175    670.0                  56040  2619.0  \n",
       "11                  136175    703.0                  56040  2382.0  \n",
       "13                  136175    594.0                  56040  2551.0  \n",
       "14                  136175    551.0                  56040  3015.0  \n",
       "15                  136175    485.0                  56040  3062.0  \n",
       "17                  136175    319.0                  56040  2942.0  \n",
       "18                  136175    488.0                  56040  3015.0  \n",
       "20                  136250    389.0                  56136  3237.0  \n",
       "22                  136250    379.0                  56136  3189.0  \n",
       "23                  136250    518.0                  56136  2582.0  \n",
       "24                  136250   1083.0                  56136  2706.0  \n",
       "25                  136250    667.0                  56136  2601.0  \n",
       "26                  136250    501.0                  56136  2691.0  \n",
       "27                  136250    477.0                  56136  2430.0  \n",
       "28                  136250    357.0                  56136  2981.0  \n",
       "29                  136250    276.0                  56136  3150.0  \n",
       "30                  136250    189.0                  56136  2911.0  \n",
       "31                  136250    263.0                  56136  2761.0  \n",
       "32                  138675    133.0                  57650  1355.0  \n",
       "33                  138675    462.0                  57650  1353.0  \n",
       "34                  138675    308.0                  57650  1675.0  "
      ]
     },
     "execution_count": 103,
     "metadata": {},
     "output_type": "execute_result"
    }
   ],
   "source": [
    "df_preis = pd.read_csv(\"Preiselastizität.csv\", sep = \";\")\n",
    "df_preis.dropna()"
   ]
  },
  {
   "cell_type": "code",
   "execution_count": 104,
   "id": "ccdf183e-b927-48d9-9bb4-969d2c0bcd5a",
   "metadata": {},
   "outputs": [],
   "source": [
    "df_c = pd.DataFrame(data = {\"Price\" : df_preis[\"c_class_average_price\"], \"units\":df_preis[\"unit_c\"]})\n",
    "df_e = pd.DataFrame(data = {\"Price\" : df_preis[\"E_class_average_price\"], \"units\":df_preis[\"unit_e\"]})\n",
    "df_s = pd.DataFrame(data = {\"Price\" : df_preis[\"s_class_average_price\"], \"units\":df_preis[\"unit_s\"]})\n",
    "df_cl = pd.DataFrame(data = {\"Price\" : df_preis[\"cl_class_average_price\"], \"units\":df_preis[\"unit_cl\"]})\n",
    "df_sl = pd.DataFrame(data = {\"Price\" : df_preis[\"sl_class_average_price\"], \"units\":df_preis[\"unit_sl\"]})\n",
    "df_m = pd.DataFrame(data = {\"Price\" : df_preis[\"m_class_average_price\"], \"units\":df_preis[\"unit_m\"]})"
   ]
  },
  {
   "cell_type": "code",
   "execution_count": 105,
   "id": "917c313e-95c8-4a99-bd39-93f57f3f4d5c",
   "metadata": {},
   "outputs": [],
   "source": [
    "dfs = {\n",
    "    \"C\": df_c.groupby(\"Price\").mean(),\n",
    "    \"E\": df_e.groupby(\"Price\").mean(),\n",
    "    \"S\": df_s.groupby(\"Price\").mean(),\n",
    "    \"CL\": df_cl.groupby(\"Price\").mean(),\n",
    "    \"SL\": df_sl.groupby(\"Price\").mean(),\n",
    "    \"M\": df_m.groupby(\"Price\").mean(),\n",
    "}"
   ]
  },
  {
   "cell_type": "code",
   "execution_count": null,
   "id": "29773429-e59e-4475-87bc-812f2bbf038d",
   "metadata": {},
   "outputs": [],
   "source": []
  },
  {
   "cell_type": "code",
   "execution_count": 106,
   "id": "42dafbdb-91dd-47a9-8a90-39c9f009b376",
   "metadata": {},
   "outputs": [
    {
     "data": {
      "text/plain": [
       "{'C': array([ 2.58119572, -3.79008944]),\n",
       " 'E': array([-14.92948863,  23.17933799, -21.88044984]),\n",
       " 'S': array([ -0.58202067, -11.31263115, -17.84593941]),\n",
       " 'CL': array([-7.47997929, -0.15709903,  4.30363683]),\n",
       " 'SL': array([ -16.61795849, -204.47924326,  -19.7018619 ]),\n",
       " 'M': array([ -0.04505608,  20.81650657, -18.00307892])}"
      ]
     },
     "execution_count": 106,
     "metadata": {},
     "output_type": "execute_result"
    }
   ],
   "source": [
    "E = {}\n",
    "keys = [\"C\", \"E\", \"S\", \"CL\", \"SL\", \"M\"]\n",
    "for k in dfs:\n",
    "    prices = dfs[k].index\n",
    "    units = dfs[k].values\n",
    "    elast = np.zeros(len(prices)-1)\n",
    "    for j in range(len(prices)-1):\n",
    "        q = (units[j+1] - units[j]) / units[j]\n",
    "        p = (prices[j+1] - prices[j]) / prices[j]\n",
    "        elast[j] = q/p\n",
    "    E[k] = elast\n",
    "E"
   ]
  },
  {
   "cell_type": "code",
   "execution_count": 110,
   "id": "6f7109e9-a92b-4b85-9002-b7273b71c115",
   "metadata": {},
   "outputs": [],
   "source": [
    "traces = [0]*len(keys)\n",
    "for i in range(len(keys)):\n",
    "    traces[i] = go.Scatter(x = dfs[keys[i]][\"units\"], y = E[keys[i]], mode = \"markers\", name = keys[i])"
   ]
  },
  {
   "cell_type": "code",
   "execution_count": 113,
   "id": "58399622-83f8-43a2-a3e2-32927d06ea9f",
   "metadata": {},
   "outputs": [
    {
     "data": {
      "application/vnd.plotly.v1+json": {
       "config": {
        "plotlyServerURL": "https://plot.ly"
       },
       "data": [
        {
         "mode": "markers",
         "name": "C-Klasse",
         "type": "scatter",
         "x": [
          5217.875,
          5440.571428571428,
          4521.25
         ],
         "xaxis": "x",
         "y": [
          2.581195719032547,
          -3.7900894445378537
         ],
         "yaxis": "y"
        },
        {
         "mode": "markers",
         "name": "E-Klasse",
         "type": "scatter",
         "x": [
          4719.75,
          3115.909090909091,
          3834.5,
          1950
         ],
         "xaxis": "x2",
         "y": [
          -14.929488629737355,
          23.179337989788472,
          -21.88044984020882
         ],
         "yaxis": "y2"
        },
        {
         "mode": "markers",
         "name": "S-Klasse",
         "type": "scatter",
         "x": [
          2529.375,
          2185,
          1477.6363636363637,
          744
         ],
         "xaxis": "x3",
         "y": [
          -0.5820206652175207,
          -11.312631147736813,
          -17.845939409355474
         ],
         "yaxis": "y3"
        },
        {
         "mode": "markers",
         "name": "CL-Klasse",
         "type": "scatter",
         "x": [
          311.5,
          136.5,
          133.33333333333334,
          225.9090909090909
         ],
         "xaxis": "x4",
         "y": [
          -7.479979294174965,
          -0.15709902632979508,
          4.303636828406766
         ],
         "yaxis": "y4"
        },
        {
         "mode": "markers",
         "name": "SL-Klasse",
         "type": "scatter",
         "x": [
          688.625,
          522.375,
          463.54545454545456,
          301
         ],
         "xaxis": "x5",
         "y": [
          -16.617958492164334,
          -204.47924325813767,
          -19.70186189731967
         ],
         "yaxis": "y5"
        },
        {
         "mode": "markers",
         "name": "M-Klasse",
         "type": "scatter",
         "x": [
          2773.125,
          2742.125,
          2839.909090909091,
          1461
         ],
         "xaxis": "x6",
         "y": [
          -0.045056079345830655,
          20.816506566324243,
          -18.003078917332402
         ],
         "yaxis": "y6"
        }
       ],
       "layout": {
        "autosize": true,
        "template": {
         "data": {
          "bar": [
           {
            "error_x": {
             "color": "#2a3f5f"
            },
            "error_y": {
             "color": "#2a3f5f"
            },
            "marker": {
             "line": {
              "color": "#E5ECF6",
              "width": 0.5
             },
             "pattern": {
              "fillmode": "overlay",
              "size": 10,
              "solidity": 0.2
             }
            },
            "type": "bar"
           }
          ],
          "barpolar": [
           {
            "marker": {
             "line": {
              "color": "#E5ECF6",
              "width": 0.5
             },
             "pattern": {
              "fillmode": "overlay",
              "size": 10,
              "solidity": 0.2
             }
            },
            "type": "barpolar"
           }
          ],
          "carpet": [
           {
            "aaxis": {
             "endlinecolor": "#2a3f5f",
             "gridcolor": "white",
             "linecolor": "white",
             "minorgridcolor": "white",
             "startlinecolor": "#2a3f5f"
            },
            "baxis": {
             "endlinecolor": "#2a3f5f",
             "gridcolor": "white",
             "linecolor": "white",
             "minorgridcolor": "white",
             "startlinecolor": "#2a3f5f"
            },
            "type": "carpet"
           }
          ],
          "choropleth": [
           {
            "colorbar": {
             "outlinewidth": 0,
             "ticks": ""
            },
            "type": "choropleth"
           }
          ],
          "contour": [
           {
            "colorbar": {
             "outlinewidth": 0,
             "ticks": ""
            },
            "colorscale": [
             [
              0,
              "#0d0887"
             ],
             [
              0.1111111111111111,
              "#46039f"
             ],
             [
              0.2222222222222222,
              "#7201a8"
             ],
             [
              0.3333333333333333,
              "#9c179e"
             ],
             [
              0.4444444444444444,
              "#bd3786"
             ],
             [
              0.5555555555555556,
              "#d8576b"
             ],
             [
              0.6666666666666666,
              "#ed7953"
             ],
             [
              0.7777777777777778,
              "#fb9f3a"
             ],
             [
              0.8888888888888888,
              "#fdca26"
             ],
             [
              1,
              "#f0f921"
             ]
            ],
            "type": "contour"
           }
          ],
          "contourcarpet": [
           {
            "colorbar": {
             "outlinewidth": 0,
             "ticks": ""
            },
            "type": "contourcarpet"
           }
          ],
          "heatmap": [
           {
            "colorbar": {
             "outlinewidth": 0,
             "ticks": ""
            },
            "colorscale": [
             [
              0,
              "#0d0887"
             ],
             [
              0.1111111111111111,
              "#46039f"
             ],
             [
              0.2222222222222222,
              "#7201a8"
             ],
             [
              0.3333333333333333,
              "#9c179e"
             ],
             [
              0.4444444444444444,
              "#bd3786"
             ],
             [
              0.5555555555555556,
              "#d8576b"
             ],
             [
              0.6666666666666666,
              "#ed7953"
             ],
             [
              0.7777777777777778,
              "#fb9f3a"
             ],
             [
              0.8888888888888888,
              "#fdca26"
             ],
             [
              1,
              "#f0f921"
             ]
            ],
            "type": "heatmap"
           }
          ],
          "heatmapgl": [
           {
            "colorbar": {
             "outlinewidth": 0,
             "ticks": ""
            },
            "colorscale": [
             [
              0,
              "#0d0887"
             ],
             [
              0.1111111111111111,
              "#46039f"
             ],
             [
              0.2222222222222222,
              "#7201a8"
             ],
             [
              0.3333333333333333,
              "#9c179e"
             ],
             [
              0.4444444444444444,
              "#bd3786"
             ],
             [
              0.5555555555555556,
              "#d8576b"
             ],
             [
              0.6666666666666666,
              "#ed7953"
             ],
             [
              0.7777777777777778,
              "#fb9f3a"
             ],
             [
              0.8888888888888888,
              "#fdca26"
             ],
             [
              1,
              "#f0f921"
             ]
            ],
            "type": "heatmapgl"
           }
          ],
          "histogram": [
           {
            "marker": {
             "pattern": {
              "fillmode": "overlay",
              "size": 10,
              "solidity": 0.2
             }
            },
            "type": "histogram"
           }
          ],
          "histogram2d": [
           {
            "colorbar": {
             "outlinewidth": 0,
             "ticks": ""
            },
            "colorscale": [
             [
              0,
              "#0d0887"
             ],
             [
              0.1111111111111111,
              "#46039f"
             ],
             [
              0.2222222222222222,
              "#7201a8"
             ],
             [
              0.3333333333333333,
              "#9c179e"
             ],
             [
              0.4444444444444444,
              "#bd3786"
             ],
             [
              0.5555555555555556,
              "#d8576b"
             ],
             [
              0.6666666666666666,
              "#ed7953"
             ],
             [
              0.7777777777777778,
              "#fb9f3a"
             ],
             [
              0.8888888888888888,
              "#fdca26"
             ],
             [
              1,
              "#f0f921"
             ]
            ],
            "type": "histogram2d"
           }
          ],
          "histogram2dcontour": [
           {
            "colorbar": {
             "outlinewidth": 0,
             "ticks": ""
            },
            "colorscale": [
             [
              0,
              "#0d0887"
             ],
             [
              0.1111111111111111,
              "#46039f"
             ],
             [
              0.2222222222222222,
              "#7201a8"
             ],
             [
              0.3333333333333333,
              "#9c179e"
             ],
             [
              0.4444444444444444,
              "#bd3786"
             ],
             [
              0.5555555555555556,
              "#d8576b"
             ],
             [
              0.6666666666666666,
              "#ed7953"
             ],
             [
              0.7777777777777778,
              "#fb9f3a"
             ],
             [
              0.8888888888888888,
              "#fdca26"
             ],
             [
              1,
              "#f0f921"
             ]
            ],
            "type": "histogram2dcontour"
           }
          ],
          "mesh3d": [
           {
            "colorbar": {
             "outlinewidth": 0,
             "ticks": ""
            },
            "type": "mesh3d"
           }
          ],
          "parcoords": [
           {
            "line": {
             "colorbar": {
              "outlinewidth": 0,
              "ticks": ""
             }
            },
            "type": "parcoords"
           }
          ],
          "pie": [
           {
            "automargin": true,
            "type": "pie"
           }
          ],
          "scatter": [
           {
            "marker": {
             "colorbar": {
              "outlinewidth": 0,
              "ticks": ""
             }
            },
            "type": "scatter"
           }
          ],
          "scatter3d": [
           {
            "line": {
             "colorbar": {
              "outlinewidth": 0,
              "ticks": ""
             }
            },
            "marker": {
             "colorbar": {
              "outlinewidth": 0,
              "ticks": ""
             }
            },
            "type": "scatter3d"
           }
          ],
          "scattercarpet": [
           {
            "marker": {
             "colorbar": {
              "outlinewidth": 0,
              "ticks": ""
             }
            },
            "type": "scattercarpet"
           }
          ],
          "scattergeo": [
           {
            "marker": {
             "colorbar": {
              "outlinewidth": 0,
              "ticks": ""
             }
            },
            "type": "scattergeo"
           }
          ],
          "scattergl": [
           {
            "marker": {
             "colorbar": {
              "outlinewidth": 0,
              "ticks": ""
             }
            },
            "type": "scattergl"
           }
          ],
          "scattermapbox": [
           {
            "marker": {
             "colorbar": {
              "outlinewidth": 0,
              "ticks": ""
             }
            },
            "type": "scattermapbox"
           }
          ],
          "scatterpolar": [
           {
            "marker": {
             "colorbar": {
              "outlinewidth": 0,
              "ticks": ""
             }
            },
            "type": "scatterpolar"
           }
          ],
          "scatterpolargl": [
           {
            "marker": {
             "colorbar": {
              "outlinewidth": 0,
              "ticks": ""
             }
            },
            "type": "scatterpolargl"
           }
          ],
          "scatterternary": [
           {
            "marker": {
             "colorbar": {
              "outlinewidth": 0,
              "ticks": ""
             }
            },
            "type": "scatterternary"
           }
          ],
          "surface": [
           {
            "colorbar": {
             "outlinewidth": 0,
             "ticks": ""
            },
            "colorscale": [
             [
              0,
              "#0d0887"
             ],
             [
              0.1111111111111111,
              "#46039f"
             ],
             [
              0.2222222222222222,
              "#7201a8"
             ],
             [
              0.3333333333333333,
              "#9c179e"
             ],
             [
              0.4444444444444444,
              "#bd3786"
             ],
             [
              0.5555555555555556,
              "#d8576b"
             ],
             [
              0.6666666666666666,
              "#ed7953"
             ],
             [
              0.7777777777777778,
              "#fb9f3a"
             ],
             [
              0.8888888888888888,
              "#fdca26"
             ],
             [
              1,
              "#f0f921"
             ]
            ],
            "type": "surface"
           }
          ],
          "table": [
           {
            "cells": {
             "fill": {
              "color": "#EBF0F8"
             },
             "line": {
              "color": "white"
             }
            },
            "header": {
             "fill": {
              "color": "#C8D4E3"
             },
             "line": {
              "color": "white"
             }
            },
            "type": "table"
           }
          ]
         },
         "layout": {
          "annotationdefaults": {
           "arrowcolor": "#2a3f5f",
           "arrowhead": 0,
           "arrowwidth": 1
          },
          "autotypenumbers": "strict",
          "coloraxis": {
           "colorbar": {
            "outlinewidth": 0,
            "ticks": ""
           }
          },
          "colorscale": {
           "diverging": [
            [
             0,
             "#8e0152"
            ],
            [
             0.1,
             "#c51b7d"
            ],
            [
             0.2,
             "#de77ae"
            ],
            [
             0.3,
             "#f1b6da"
            ],
            [
             0.4,
             "#fde0ef"
            ],
            [
             0.5,
             "#f7f7f7"
            ],
            [
             0.6,
             "#e6f5d0"
            ],
            [
             0.7,
             "#b8e186"
            ],
            [
             0.8,
             "#7fbc41"
            ],
            [
             0.9,
             "#4d9221"
            ],
            [
             1,
             "#276419"
            ]
           ],
           "sequential": [
            [
             0,
             "#0d0887"
            ],
            [
             0.1111111111111111,
             "#46039f"
            ],
            [
             0.2222222222222222,
             "#7201a8"
            ],
            [
             0.3333333333333333,
             "#9c179e"
            ],
            [
             0.4444444444444444,
             "#bd3786"
            ],
            [
             0.5555555555555556,
             "#d8576b"
            ],
            [
             0.6666666666666666,
             "#ed7953"
            ],
            [
             0.7777777777777778,
             "#fb9f3a"
            ],
            [
             0.8888888888888888,
             "#fdca26"
            ],
            [
             1,
             "#f0f921"
            ]
           ],
           "sequentialminus": [
            [
             0,
             "#0d0887"
            ],
            [
             0.1111111111111111,
             "#46039f"
            ],
            [
             0.2222222222222222,
             "#7201a8"
            ],
            [
             0.3333333333333333,
             "#9c179e"
            ],
            [
             0.4444444444444444,
             "#bd3786"
            ],
            [
             0.5555555555555556,
             "#d8576b"
            ],
            [
             0.6666666666666666,
             "#ed7953"
            ],
            [
             0.7777777777777778,
             "#fb9f3a"
            ],
            [
             0.8888888888888888,
             "#fdca26"
            ],
            [
             1,
             "#f0f921"
            ]
           ]
          },
          "colorway": [
           "#636efa",
           "#EF553B",
           "#00cc96",
           "#ab63fa",
           "#FFA15A",
           "#19d3f3",
           "#FF6692",
           "#B6E880",
           "#FF97FF",
           "#FECB52"
          ],
          "font": {
           "color": "#2a3f5f"
          },
          "geo": {
           "bgcolor": "white",
           "lakecolor": "white",
           "landcolor": "#E5ECF6",
           "showlakes": true,
           "showland": true,
           "subunitcolor": "white"
          },
          "hoverlabel": {
           "align": "left"
          },
          "hovermode": "closest",
          "mapbox": {
           "style": "light"
          },
          "paper_bgcolor": "white",
          "plot_bgcolor": "#E5ECF6",
          "polar": {
           "angularaxis": {
            "gridcolor": "white",
            "linecolor": "white",
            "ticks": ""
           },
           "bgcolor": "#E5ECF6",
           "radialaxis": {
            "gridcolor": "white",
            "linecolor": "white",
            "ticks": ""
           }
          },
          "scene": {
           "xaxis": {
            "backgroundcolor": "#E5ECF6",
            "gridcolor": "white",
            "gridwidth": 2,
            "linecolor": "white",
            "showbackground": true,
            "ticks": "",
            "zerolinecolor": "white"
           },
           "yaxis": {
            "backgroundcolor": "#E5ECF6",
            "gridcolor": "white",
            "gridwidth": 2,
            "linecolor": "white",
            "showbackground": true,
            "ticks": "",
            "zerolinecolor": "white"
           },
           "zaxis": {
            "backgroundcolor": "#E5ECF6",
            "gridcolor": "white",
            "gridwidth": 2,
            "linecolor": "white",
            "showbackground": true,
            "ticks": "",
            "zerolinecolor": "white"
           }
          },
          "shapedefaults": {
           "line": {
            "color": "#2a3f5f"
           }
          },
          "ternary": {
           "aaxis": {
            "gridcolor": "white",
            "linecolor": "white",
            "ticks": ""
           },
           "baxis": {
            "gridcolor": "white",
            "linecolor": "white",
            "ticks": ""
           },
           "bgcolor": "#E5ECF6",
           "caxis": {
            "gridcolor": "white",
            "linecolor": "white",
            "ticks": ""
           }
          },
          "title": {
           "x": 0.05
          },
          "xaxis": {
           "automargin": true,
           "gridcolor": "white",
           "linecolor": "white",
           "ticks": "",
           "title": {
            "standoff": 15
           },
           "zerolinecolor": "white",
           "zerolinewidth": 2
          },
          "yaxis": {
           "automargin": true,
           "gridcolor": "white",
           "linecolor": "white",
           "ticks": "",
           "title": {
            "standoff": 15
           },
           "zerolinecolor": "white",
           "zerolinewidth": 2
          }
         }
        },
        "xaxis": {
         "anchor": "y",
         "autorange": true,
         "domain": [
          0,
          0.2888888888888889
         ],
         "range": [
          5199.403976678748,
          5459.04245189268
         ],
         "type": "linear"
        },
        "xaxis2": {
         "anchor": "y2",
         "autorange": true,
         "domain": [
          0.35555555555555557,
          0.6444444444444445
         ],
         "range": [
          2982.8823377391636,
          4852.776753169927
         ],
         "type": "linear"
        },
        "xaxis3": {
         "anchor": "y3",
         "autorange": true,
         "domain": [
          0.7111111111111111,
          1
         ],
         "range": [
          1390.4024146918111,
          2616.6089489445526
         ],
         "type": "linear"
        },
        "xaxis4": {
         "anchor": "y4",
         "autorange": true,
         "domain": [
          0,
          0.2888888888888889
         ],
         "range": [
          118.55572474670018,
          326.27760858663316
         ],
         "type": "linear"
        },
        "xaxis5": {
         "anchor": "y5",
         "autorange": true,
         "domain": [
          0.35555555555555557,
          0.6444444444444445
         ],
         "range": [
          444.8767692867946,
          707.2936852586599
         ],
         "type": "linear"
        },
        "xaxis6": {
         "anchor": "y6",
         "autorange": true,
         "domain": [
          0.7111111111111111,
          1
         ],
         "range": [
          2734.0145321527352,
          2848.0195587563558
         ],
         "type": "linear"
        },
        "yaxis": {
         "anchor": "x",
         "autorange": true,
         "domain": [
          0.575,
          1
         ],
         "range": [
          -4.57676401852393,
          3.3678702930186235
         ],
         "type": "linear"
        },
        "yaxis2": {
         "anchor": "x2",
         "autorange": true,
         "domain": [
          0.575,
          1
         ],
         "range": [
          -27.444066674963985,
          28.742954824543638
         ],
         "type": "linear"
        },
        "yaxis3": {
         "anchor": "x3",
         "autorange": true,
         "domain": [
          0.575,
          1
         ],
         "range": [
          -19.9775479584483,
          1.5495878838753074
         ],
         "type": "linear"
        },
        "yaxis4": {
         "anchor": "x4",
         "autorange": true,
         "domain": [
          0,
          0.425
         ],
         "range": [
          -8.934924561144104,
          5.758582095375905
         ],
         "type": "linear"
        },
        "yaxis5": {
         "anchor": "x5",
         "autorange": true,
         "domain": [
          0,
          0.425
         ],
         "range": [
          -227.6748297634718,
          6.577628013169782
         ],
         "type": "linear"
        },
        "yaxis6": {
         "anchor": "x6",
         "autorange": true,
         "domain": [
          0,
          0.425
         ],
         "range": [
          -22.79620622032668,
          25.60963386931852
         ],
         "type": "linear"
        }
       }
      },
      "image/png": "[encoded data removed]",
      "text/html": [
       "<div>                            <div id=\"75a22932-d0c6-49ae-9a39-cbe9955876ae\" class=\"plotly-graph-div\" style=\"height:525px; width:100%;\"></div>            <script type=\"text/javascript\">                require([\"plotly\"], function(Plotly) {                    window.PLOTLYENV=window.PLOTLYENV || {};                                    if (document.getElementById(\"75a22932-d0c6-49ae-9a39-cbe9955876ae\")) {                    Plotly.newPlot(                        \"75a22932-d0c6-49ae-9a39-cbe9955876ae\",                        [{\"mode\":\"markers\",\"name\":\"C-Klasse\",\"x\":[5217.875,5440.571428571428,4521.25],\"y\":[2.581195719032547,-3.7900894445378537],\"type\":\"scatter\",\"xaxis\":\"x\",\"yaxis\":\"y\"},{\"mode\":\"markers\",\"name\":\"E-Klasse\",\"x\":[4719.75,3115.909090909091,3834.5,1950.0],\"y\":[-14.929488629737355,23.179337989788472,-21.88044984020882],\"type\":\"scatter\",\"xaxis\":\"x2\",\"yaxis\":\"y2\"},{\"mode\":\"markers\",\"name\":\"S-Klasse\",\"x\":[2529.375,2185.0,1477.6363636363637,744.0],\"y\":[-0.5820206652175207,-11.312631147736813,-17.845939409355474],\"type\":\"scatter\",\"xaxis\":\"x3\",\"yaxis\":\"y3\"},{\"mode\":\"markers\",\"name\":\"CL-Klasse\",\"x\":[311.5,136.5,133.33333333333334,225.9090909090909],\"y\":[-7.479979294174965,-0.15709902632979508,4.303636828406766],\"type\":\"scatter\",\"xaxis\":\"x4\",\"yaxis\":\"y4\"},{\"mode\":\"markers\",\"name\":\"SL-Klasse\",\"x\":[688.625,522.375,463.54545454545456,301.0],\"y\":[-16.617958492164334,-204.47924325813767,-19.70186189731967],\"type\":\"scatter\",\"xaxis\":\"x5\",\"yaxis\":\"y5\"},{\"mode\":\"markers\",\"name\":\"M-Klasse\",\"x\":[2773.125,2742.125,2839.909090909091,1461.0],\"y\":[-0.045056079345830655,20.816506566324243,-18.003078917332402],\"type\":\"scatter\",\"xaxis\":\"x6\",\"yaxis\":\"y6\"}],                        {\"template\":{\"data\":{\"bar\":[{\"error_x\":{\"color\":\"#2a3f5f\"},\"error_y\":{\"color\":\"#2a3f5f\"},\"marker\":{\"line\":{\"color\":\"#E5ECF6\",\"width\":0.5},\"pattern\":{\"fillmode\":\"overlay\",\"size\":10,\"solidity\":0.2}},\"type\":\"bar\"}],\"barpolar\":[{\"marker\":{\"line\":{\"color\":\"#E5ECF6\",\"width\":0.5},\"pattern\":{\"fillmode\":\"overlay\",\"size\":10,\"solidity\":0.2}},\"type\":\"barpolar\"}],\"carpet\":[{\"aaxis\":{\"endlinecolor\":\"#2a3f5f\",\"gridcolor\":\"white\",\"linecolor\":\"white\",\"minorgridcolor\":\"white\",\"startlinecolor\":\"#2a3f5f\"},\"baxis\":{\"endlinecolor\":\"#2a3f5f\",\"gridcolor\":\"white\",\"linecolor\":\"white\",\"minorgridcolor\":\"white\",\"startlinecolor\":\"#2a3f5f\"},\"type\":\"carpet\"}],\"choropleth\":[{\"colorbar\":{\"outlinewidth\":0,\"ticks\":\"\"},\"type\":\"choropleth\"}],\"contour\":[{\"colorbar\":{\"outlinewidth\":0,\"ticks\":\"\"},\"colorscale\":[[0.0,\"#0d0887\"],[0.1111111111111111,\"#46039f\"],[0.2222222222222222,\"#7201a8\"],[0.3333333333333333,\"#9c179e\"],[0.4444444444444444,\"#bd3786\"],[0.5555555555555556,\"#d8576b\"],[0.6666666666666666,\"#ed7953\"],[0.7777777777777778,\"#fb9f3a\"],[0.8888888888888888,\"#fdca26\"],[1.0,\"#f0f921\"]],\"type\":\"contour\"}],\"contourcarpet\":[{\"colorbar\":{\"outlinewidth\":0,\"ticks\":\"\"},\"type\":\"contourcarpet\"}],\"heatmap\":[{\"colorbar\":{\"outlinewidth\":0,\"ticks\":\"\"},\"colorscale\":[[0.0,\"#0d0887\"],[0.1111111111111111,\"#46039f\"],[0.2222222222222222,\"#7201a8\"],[0.3333333333333333,\"#9c179e\"],[0.4444444444444444,\"#bd3786\"],[0.5555555555555556,\"#d8576b\"],[0.6666666666666666,\"#ed7953\"],[0.7777777777777778,\"#fb9f3a\"],[0.8888888888888888,\"#fdca26\"],[1.0,\"#f0f921\"]],\"type\":\"heatmap\"}],\"heatmapgl\":[{\"colorbar\":{\"outlinewidth\":0,\"ticks\":\"\"},\"colorscale\":[[0.0,\"#0d0887\"],[0.1111111111111111,\"#46039f\"],[0.2222222222222222,\"#7201a8\"],[0.3333333333333333,\"#9c179e\"],[0.4444444444444444,\"#bd3786\"],[0.5555555555555556,\"#d8576b\"],[0.6666666666666666,\"#ed7953\"],[0.7777777777777778,\"#fb9f3a\"],[0.8888888888888888,\"#fdca26\"],[1.0,\"#f0f921\"]],\"type\":\"heatmapgl\"}],\"histogram\":[{\"marker\":{\"pattern\":{\"fillmode\":\"overlay\",\"size\":10,\"solidity\":0.2}},\"type\":\"histogram\"}],\"histogram2d\":[{\"colorbar\":{\"outlinewidth\":0,\"ticks\":\"\"},\"colorscale\":[[0.0,\"#0d0887\"],[0.1111111111111111,\"#46039f\"],[0.2222222222222222,\"#7201a8\"],[0.3333333333333333,\"#9c179e\"],[0.4444444444444444,\"#bd3786\"],[0.5555555555555556,\"#d8576b\"],[0.6666666666666666,\"#ed7953\"],[0.7777777777777778,\"#fb9f3a\"],[0.8888888888888888,\"#fdca26\"],[1.0,\"#f0f921\"]],\"type\":\"histogram2d\"}],\"histogram2dcontour\":[{\"colorbar\":{\"outlinewidth\":0,\"ticks\":\"\"},\"colorscale\":[[0.0,\"#0d0887\"],[0.1111111111111111,\"#46039f\"],[0.2222222222222222,\"#7201a8\"],[0.3333333333333333,\"#9c179e\"],[0.4444444444444444,\"#bd3786\"],[0.5555555555555556,\"#d8576b\"],[0.6666666666666666,\"#ed7953\"],[0.7777777777777778,\"#fb9f3a\"],[0.8888888888888888,\"#fdca26\"],[1.0,\"#f0f921\"]],\"type\":\"histogram2dcontour\"}],\"mesh3d\":[{\"colorbar\":{\"outlinewidth\":0,\"ticks\":\"\"},\"type\":\"mesh3d\"}],\"parcoords\":[{\"line\":{\"colorbar\":{\"outlinewidth\":0,\"ticks\":\"\"}},\"type\":\"parcoords\"}],\"pie\":[{\"automargin\":true,\"type\":\"pie\"}],\"scatter\":[{\"marker\":{\"colorbar\":{\"outlinewidth\":0,\"ticks\":\"\"}},\"type\":\"scatter\"}],\"scatter3d\":[{\"line\":{\"colorbar\":{\"outlinewidth\":0,\"ticks\":\"\"}},\"marker\":{\"colorbar\":{\"outlinewidth\":0,\"ticks\":\"\"}},\"type\":\"scatter3d\"}],\"scattercarpet\":[{\"marker\":{\"colorbar\":{\"outlinewidth\":0,\"ticks\":\"\"}},\"type\":\"scattercarpet\"}],\"scattergeo\":[{\"marker\":{\"colorbar\":{\"outlinewidth\":0,\"ticks\":\"\"}},\"type\":\"scattergeo\"}],\"scattergl\":[{\"marker\":{\"colorbar\":{\"outlinewidth\":0,\"ticks\":\"\"}},\"type\":\"scattergl\"}],\"scattermapbox\":[{\"marker\":{\"colorbar\":{\"outlinewidth\":0,\"ticks\":\"\"}},\"type\":\"scattermapbox\"}],\"scatterpolar\":[{\"marker\":{\"colorbar\":{\"outlinewidth\":0,\"ticks\":\"\"}},\"type\":\"scatterpolar\"}],\"scatterpolargl\":[{\"marker\":{\"colorbar\":{\"outlinewidth\":0,\"ticks\":\"\"}},\"type\":\"scatterpolargl\"}],\"scatterternary\":[{\"marker\":{\"colorbar\":{\"outlinewidth\":0,\"ticks\":\"\"}},\"type\":\"scatterternary\"}],\"surface\":[{\"colorbar\":{\"outlinewidth\":0,\"ticks\":\"\"},\"colorscale\":[[0.0,\"#0d0887\"],[0.1111111111111111,\"#46039f\"],[0.2222222222222222,\"#7201a8\"],[0.3333333333333333,\"#9c179e\"],[0.4444444444444444,\"#bd3786\"],[0.5555555555555556,\"#d8576b\"],[0.6666666666666666,\"#ed7953\"],[0.7777777777777778,\"#fb9f3a\"],[0.8888888888888888,\"#fdca26\"],[1.0,\"#f0f921\"]],\"type\":\"surface\"}],\"table\":[{\"cells\":{\"fill\":{\"color\":\"#EBF0F8\"},\"line\":{\"color\":\"white\"}},\"header\":{\"fill\":{\"color\":\"#C8D4E3\"},\"line\":{\"color\":\"white\"}},\"type\":\"table\"}]},\"layout\":{\"annotationdefaults\":{\"arrowcolor\":\"#2a3f5f\",\"arrowhead\":0,\"arrowwidth\":1},\"autotypenumbers\":\"strict\",\"coloraxis\":{\"colorbar\":{\"outlinewidth\":0,\"ticks\":\"\"}},\"colorscale\":{\"diverging\":[[0,\"#8e0152\"],[0.1,\"#c51b7d\"],[0.2,\"#de77ae\"],[0.3,\"#f1b6da\"],[0.4,\"#fde0ef\"],[0.5,\"#f7f7f7\"],[0.6,\"#e6f5d0\"],[0.7,\"#b8e186\"],[0.8,\"#7fbc41\"],[0.9,\"#4d9221\"],[1,\"#276419\"]],\"sequential\":[[0.0,\"#0d0887\"],[0.1111111111111111,\"#46039f\"],[0.2222222222222222,\"#7201a8\"],[0.3333333333333333,\"#9c179e\"],[0.4444444444444444,\"#bd3786\"],[0.5555555555555556,\"#d8576b\"],[0.6666666666666666,\"#ed7953\"],[0.7777777777777778,\"#fb9f3a\"],[0.8888888888888888,\"#fdca26\"],[1.0,\"#f0f921\"]],\"sequentialminus\":[[0.0,\"#0d0887\"],[0.1111111111111111,\"#46039f\"],[0.2222222222222222,\"#7201a8\"],[0.3333333333333333,\"#9c179e\"],[0.4444444444444444,\"#bd3786\"],[0.5555555555555556,\"#d8576b\"],[0.6666666666666666,\"#ed7953\"],[0.7777777777777778,\"#fb9f3a\"],[0.8888888888888888,\"#fdca26\"],[1.0,\"#f0f921\"]]},\"colorway\":[\"#636efa\",\"#EF553B\",\"#00cc96\",\"#ab63fa\",\"#FFA15A\",\"#19d3f3\",\"#FF6692\",\"#B6E880\",\"#FF97FF\",\"#FECB52\"],\"font\":{\"color\":\"#2a3f5f\"},\"geo\":{\"bgcolor\":\"white\",\"lakecolor\":\"white\",\"landcolor\":\"#E5ECF6\",\"showlakes\":true,\"showland\":true,\"subunitcolor\":\"white\"},\"hoverlabel\":{\"align\":\"left\"},\"hovermode\":\"closest\",\"mapbox\":{\"style\":\"light\"},\"paper_bgcolor\":\"white\",\"plot_bgcolor\":\"#E5ECF6\",\"polar\":{\"angularaxis\":{\"gridcolor\":\"white\",\"linecolor\":\"white\",\"ticks\":\"\"},\"bgcolor\":\"#E5ECF6\",\"radialaxis\":{\"gridcolor\":\"white\",\"linecolor\":\"white\",\"ticks\":\"\"}},\"scene\":{\"xaxis\":{\"backgroundcolor\":\"#E5ECF6\",\"gridcolor\":\"white\",\"gridwidth\":2,\"linecolor\":\"white\",\"showbackground\":true,\"ticks\":\"\",\"zerolinecolor\":\"white\"},\"yaxis\":{\"backgroundcolor\":\"#E5ECF6\",\"gridcolor\":\"white\",\"gridwidth\":2,\"linecolor\":\"white\",\"showbackground\":true,\"ticks\":\"\",\"zerolinecolor\":\"white\"},\"zaxis\":{\"backgroundcolor\":\"#E5ECF6\",\"gridcolor\":\"white\",\"gridwidth\":2,\"linecolor\":\"white\",\"showbackground\":true,\"ticks\":\"\",\"zerolinecolor\":\"white\"}},\"shapedefaults\":{\"line\":{\"color\":\"#2a3f5f\"}},\"ternary\":{\"aaxis\":{\"gridcolor\":\"white\",\"linecolor\":\"white\",\"ticks\":\"\"},\"baxis\":{\"gridcolor\":\"white\",\"linecolor\":\"white\",\"ticks\":\"\"},\"bgcolor\":\"#E5ECF6\",\"caxis\":{\"gridcolor\":\"white\",\"linecolor\":\"white\",\"ticks\":\"\"}},\"title\":{\"x\":0.05},\"xaxis\":{\"automargin\":true,\"gridcolor\":\"white\",\"linecolor\":\"white\",\"ticks\":\"\",\"title\":{\"standoff\":15},\"zerolinecolor\":\"white\",\"zerolinewidth\":2},\"yaxis\":{\"automargin\":true,\"gridcolor\":\"white\",\"linecolor\":\"white\",\"ticks\":\"\",\"title\":{\"standoff\":15},\"zerolinecolor\":\"white\",\"zerolinewidth\":2}}},\"xaxis\":{\"anchor\":\"y\",\"domain\":[0.0,0.2888888888888889]},\"yaxis\":{\"anchor\":\"x\",\"domain\":[0.575,1.0]},\"xaxis2\":{\"anchor\":\"y2\",\"domain\":[0.35555555555555557,0.6444444444444445]},\"yaxis2\":{\"anchor\":\"x2\",\"domain\":[0.575,1.0]},\"xaxis3\":{\"anchor\":\"y3\",\"domain\":[0.7111111111111111,1.0]},\"yaxis3\":{\"anchor\":\"x3\",\"domain\":[0.575,1.0]},\"xaxis4\":{\"anchor\":\"y4\",\"domain\":[0.0,0.2888888888888889]},\"yaxis4\":{\"anchor\":\"x4\",\"domain\":[0.0,0.425]},\"xaxis5\":{\"anchor\":\"y5\",\"domain\":[0.35555555555555557,0.6444444444444445]},\"yaxis5\":{\"anchor\":\"x5\",\"domain\":[0.0,0.425]},\"xaxis6\":{\"anchor\":\"y6\",\"domain\":[0.7111111111111111,1.0]},\"yaxis6\":{\"anchor\":\"x6\",\"domain\":[0.0,0.425]}},                        {\"responsive\": true}                    ).then(function(){\n",
       "                            \n",
       "var gd = document.getElementById('75a22932-d0c6-49ae-9a39-cbe9955876ae');\n",
       "var x = new MutationObserver(function (mutations, observer) {{\n",
       "        var display = window.getComputedStyle(gd).display;\n",
       "        if (!display || display === 'none') {{\n",
       "            console.log([gd, 'removed!']);\n",
       "            Plotly.purge(gd);\n",
       "            observer.disconnect();\n",
       "        }}\n",
       "}});\n",
       "\n",
       "// Listen for the removal of the full notebook cells\n",
       "var notebookContainer = gd.closest('#notebook-container');\n",
       "if (notebookContainer) {{\n",
       "    x.observe(notebookContainer, {childList: true});\n",
       "}}\n",
       "\n",
       "// Listen for the clearing of the current output cell\n",
       "var outputEl = gd.closest('.output');\n",
       "if (outputEl) {{\n",
       "    x.observe(outputEl, {childList: true});\n",
       "}}\n",
       "\n",
       "                        })                };                });            </script>        </div>"
      ]
     },
     "metadata": {},
     "output_type": "display_data"
    }
   ],
   "source": [
    "fig = make_subplots(rows = 2, cols = 3)\n",
    "fig.add_trace(go.Scatter(x = dfs[\"C\"][\"units\"], y = E[\"C\"], mode = \"markers\", name = \"C-Klasse\"), row = 1, col = 1)\n",
    "fig.add_trace(go.Scatter(x = dfs[\"E\"][\"units\"], y = E[\"E\"], mode = \"markers\", name = \"E-Klasse\"), row = 1, col = 2)\n",
    "fig.add_trace(go.Scatter(x = dfs[\"S\"][\"units\"], y = E[\"S\"], mode = \"markers\", name = \"S-Klasse\"), row = 1, col = 3)\n",
    "fig.add_trace(go.Scatter(x = dfs[\"CL\"][\"units\"], y = E[\"CL\"], mode = \"markers\", name = \"CL-Klasse\"), row = 2, col = 1)\n",
    "fig.add_trace(go.Scatter(x = dfs[\"SL\"][\"units\"], y = E[\"SL\"], mode = \"markers\", name = \"SL-Klasse\"), row = 2, col = 2)\n",
    "fig.add_trace(go.Scatter(x = dfs[\"M\"][\"units\"], y = E[\"M\"], mode = \"markers\", name = \"M-Klasse\"), row = 2, col = 3)\n",
    "fig.show()"
   ]
  },
  {
   "cell_type": "code",
   "execution_count": null,
   "id": "e22e305e-a8cd-499e-b0e3-50cb91aa7d84",
   "metadata": {},
   "outputs": [],
   "source": []
  }
 ],
 "metadata": {
  "kernelspec": {
   "display_name": "Python [conda env:dash_39]",
   "language": "python",
   "name": "conda-env-dash_39-py"
  },
  "language_info": {
   "codemirror_mode": {
    "name": "ipython",
    "version": 3
   },
   "file_extension": ".py",
   "mimetype": "text/x-python",
   "name": "python",
   "nbconvert_exporter": "python",
   "pygments_lexer": "ipython3",
   "version": "3.9.11"
  }
 },
 "nbformat": 4,
 "nbformat_minor": 5
}
