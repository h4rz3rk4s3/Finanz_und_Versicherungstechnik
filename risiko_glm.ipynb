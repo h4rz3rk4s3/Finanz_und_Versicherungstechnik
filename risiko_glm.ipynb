{
 "cells": [
  {
   "cell_type": "code",
   "execution_count": 35,
   "id": "fcc57fb5-6313-4a36-af8a-67a18a6179bd",
   "metadata": {},
   "outputs": [],
   "source": [
    "import pandas as pd\n",
    "import numpy as np\n",
    "from sklearn.preprocessing import RobustScaler\n",
    "from sklearn.model_selection import train_test_split\n",
    "from sklearn.linear_model import LinearRegression\n",
    "from sklearn.linear_model import TweedieRegressor\n",
    "from sklearn.metrics import mean_squared_error as mse\n",
    "from sklearn.metrics import mean_absolute_error as mae\n",
    "from sklearn.linear_model import Lasso\n",
    "from sklearn.linear_model import ElasticNet\n",
    "from sklearn.metrics import r2_score\n",
    "from statsmodels.tsa.stattools import adfuller\n",
    "import seaborn as sns\n",
    "\n",
    "from statsmodels.tsa.stattools import adfuller\n",
    "\n",
    "from plotly.subplots import make_subplots\n",
    "import plotly.graph_objects as go\n",
    "import plotly.express as px"
   ]
  },
  {
   "cell_type": "code",
   "execution_count": 2,
   "id": "69637164-ac91-44e8-97dc-f23ac8937a14",
   "metadata": {},
   "outputs": [],
   "source": [
    "# DataFrame's zum umcodieren der kategoriellen Daten ex Country\n",
    "\n",
    "# Moody's Rating\n",
    "ratings = [\"A1\", \"A2\", \"A3\", \"Aa1\", \"Aa2\", \"Aa3\", \n",
    "           \"Aaa\", \"B1\", \"B2\", \"B3\", \"Ba1\", \"Ba2\", \n",
    "           \"Ba3\", \"Baa1\", \"Baa2\", \"Baa3\", \"C\",\n",
    "           \"Ca\", \"Caa1\", \"Caa2\", \"Caa3\", \"NR\"]\n",
    "df_rating = pd.DataFrame({\"Rating\" : ratings, \"Code\" : [1, 2, 3, 4, 5, 6, 7, 8, 9, 10, 11, 12, 13, 14, 15, 16, 17, 18, 19 , 20 , 21, np.nan]})\n",
    "\n",
    "regions = [\"Africa\", \"Asia\", \"Australia & New Zealand\", \"Caribbean\",\n",
    "           \"Central and South America\", \"Eastern Europe & Russia\",\n",
    "           \"Middle East\",\"North America\", \"Western Europe\"]\n",
    "df_regions = pd.DataFrame({\"Region\" : regions, \"Code\" : [1, 2, 3, 4, 5, 6, 7, 8, 9]})"
   ]
  },
  {
   "cell_type": "code",
   "execution_count": 44,
   "id": "a3249c6d-bda8-46d9-b850-4f5756537c3e",
   "metadata": {
    "tags": []
   },
   "outputs": [],
   "source": [
    "df_ERP = pd.read_csv(\"ERP_by_country.csv\", sep = \";\")\n",
    "df_ERP = df_ERP.drop(columns = [\"a\", \"b\", \"Unnamed: 11\"])\n",
    "\n",
    "for i in range(len(df_ERP)):\n",
    "    ERP_rat = df_ERP.at[i, \"Moody's rating\"]\n",
    "    for j in range(len(df_rating)):\n",
    "        old_rat = df_rating.at[j, \"Rating\"]\n",
    "        new_rat = df_rating.at[j, \"Code\"]\n",
    "        if (ERP_rat == old_rat):\n",
    "            df_ERP.at[i, \"Moody's rating\"] = new_rat\n",
    "            break\n",
    "        else:\n",
    "            continue\n",
    "            \n",
    "for i in range(len(df_ERP)):\n",
    "    ERP_reg = df_ERP.at[i, \"Region\"]\n",
    "    for j in range(len(df_regions)):\n",
    "        old_reg = df_regions.at[j, \"Region\"]\n",
    "        new_reg = df_regions.at[j, \"Code\"]\n",
    "        if (ERP_reg == old_reg):\n",
    "            df_ERP.at[i, \"Region\"] = new_reg\n",
    "            break\n",
    "        else:\n",
    "            continue\n",
    "#df_ERP = df_ERP.set_index(\"Country\")"
   ]
  },
  {
   "cell_type": "markdown",
   "id": "36d02367-cfc0-4d4a-92ef-77212ccb1c6d",
   "metadata": {},
   "source": [
    "## Begriffserklärungen\n",
    "\n",
    "__Total Equity Risk Premium:__ ist die zusätzliche Rendite, die ein Investor erhält, wenn er in ein bestimmtes Land investiert verglichen zum weltweiten Equity Markt (risk-free rate). "
   ]
  },
  {
   "cell_type": "code",
   "execution_count": 45,
   "id": "ad161cea-cb00-44ac-9dd4-e264a7254f55",
   "metadata": {},
   "outputs": [
    {
     "data": {
      "text/html": [
       "<div>\n",
       "<style scoped>\n",
       "    .dataframe tbody tr th:only-of-type {\n",
       "        vertical-align: middle;\n",
       "    }\n",
       "\n",
       "    .dataframe tbody tr th {\n",
       "        vertical-align: top;\n",
       "    }\n",
       "\n",
       "    .dataframe thead th {\n",
       "        text-align: right;\n",
       "    }\n",
       "</style>\n",
       "<table border=\"1\" class=\"dataframe\">\n",
       "  <thead>\n",
       "    <tr style=\"text-align: right;\">\n",
       "      <th></th>\n",
       "      <th>Country</th>\n",
       "      <th>Region</th>\n",
       "      <th>Moody's rating</th>\n",
       "      <th>Rating-based Default Spread</th>\n",
       "      <th>Total Equity Risk Premium</th>\n",
       "      <th>Country Risk Premium</th>\n",
       "      <th>Sovereign CDS, net of US</th>\n",
       "      <th>Total Equity Risk Premium2</th>\n",
       "      <th>Country Risk Premium3</th>\n",
       "    </tr>\n",
       "  </thead>\n",
       "  <tbody>\n",
       "    <tr>\n",
       "      <th>0</th>\n",
       "      <td>Abu Dhabi</td>\n",
       "      <td>7</td>\n",
       "      <td>5.0</td>\n",
       "      <td>0.42</td>\n",
       "      <td>4.73</td>\n",
       "      <td>0.49</td>\n",
       "      <td>0.58</td>\n",
       "      <td>4.91</td>\n",
       "      <td>0.67</td>\n",
       "    </tr>\n",
       "    <tr>\n",
       "      <th>1</th>\n",
       "      <td>Albania</td>\n",
       "      <td>6</td>\n",
       "      <td>8.0</td>\n",
       "      <td>3.83</td>\n",
       "      <td>8.69</td>\n",
       "      <td>4.45</td>\n",
       "      <td>NaN</td>\n",
       "      <td>NaN</td>\n",
       "      <td>NaN</td>\n",
       "    </tr>\n",
       "    <tr>\n",
       "      <th>2</th>\n",
       "      <td>Andorra (Principality of)</td>\n",
       "      <td>9</td>\n",
       "      <td>15.0</td>\n",
       "      <td>1.62</td>\n",
       "      <td>6.12</td>\n",
       "      <td>1.88</td>\n",
       "      <td>NaN</td>\n",
       "      <td>NaN</td>\n",
       "      <td>NaN</td>\n",
       "    </tr>\n",
       "    <tr>\n",
       "      <th>3</th>\n",
       "      <td>Angola</td>\n",
       "      <td>1</td>\n",
       "      <td>10.0</td>\n",
       "      <td>5.53</td>\n",
       "      <td>10.67</td>\n",
       "      <td>6.43</td>\n",
       "      <td>5.75</td>\n",
       "      <td>10.92</td>\n",
       "      <td>6.68</td>\n",
       "    </tr>\n",
       "    <tr>\n",
       "      <th>4</th>\n",
       "      <td>Argentina</td>\n",
       "      <td>5</td>\n",
       "      <td>18.0</td>\n",
       "      <td>10.21</td>\n",
       "      <td>16.11</td>\n",
       "      <td>11.87</td>\n",
       "      <td>23.13</td>\n",
       "      <td>31.12</td>\n",
       "      <td>26.88</td>\n",
       "    </tr>\n",
       "    <tr>\n",
       "      <th>...</th>\n",
       "      <td>...</td>\n",
       "      <td>...</td>\n",
       "      <td>...</td>\n",
       "      <td>...</td>\n",
       "      <td>...</td>\n",
       "      <td>...</td>\n",
       "      <td>...</td>\n",
       "      <td>...</td>\n",
       "      <td>...</td>\n",
       "    </tr>\n",
       "    <tr>\n",
       "      <th>152</th>\n",
       "      <td>Uruguay</td>\n",
       "      <td>5</td>\n",
       "      <td>15.0</td>\n",
       "      <td>1.62</td>\n",
       "      <td>6.12</td>\n",
       "      <td>1.88</td>\n",
       "      <td>1.27</td>\n",
       "      <td>5.72</td>\n",
       "      <td>1.48</td>\n",
       "    </tr>\n",
       "    <tr>\n",
       "      <th>153</th>\n",
       "      <td>Uzbekistan</td>\n",
       "      <td>6</td>\n",
       "      <td>8.0</td>\n",
       "      <td>3.83</td>\n",
       "      <td>8.69</td>\n",
       "      <td>4.45</td>\n",
       "      <td>NaN</td>\n",
       "      <td>NaN</td>\n",
       "      <td>NaN</td>\n",
       "    </tr>\n",
       "    <tr>\n",
       "      <th>154</th>\n",
       "      <td>Venezuela</td>\n",
       "      <td>5</td>\n",
       "      <td>17.0</td>\n",
       "      <td>17.50</td>\n",
       "      <td>24.58</td>\n",
       "      <td>20.34</td>\n",
       "      <td>NaN</td>\n",
       "      <td>NaN</td>\n",
       "      <td>NaN</td>\n",
       "    </tr>\n",
       "    <tr>\n",
       "      <th>155</th>\n",
       "      <td>Vietnam</td>\n",
       "      <td>2</td>\n",
       "      <td>13.0</td>\n",
       "      <td>3.06</td>\n",
       "      <td>7.80</td>\n",
       "      <td>3.56</td>\n",
       "      <td>1.37</td>\n",
       "      <td>5.83</td>\n",
       "      <td>1.59</td>\n",
       "    </tr>\n",
       "    <tr>\n",
       "      <th>156</th>\n",
       "      <td>Zambia</td>\n",
       "      <td>1</td>\n",
       "      <td>18.0</td>\n",
       "      <td>10.21</td>\n",
       "      <td>16.11</td>\n",
       "      <td>11.87</td>\n",
       "      <td>NaN</td>\n",
       "      <td>NaN</td>\n",
       "      <td>NaN</td>\n",
       "    </tr>\n",
       "  </tbody>\n",
       "</table>\n",
       "<p>157 rows × 9 columns</p>\n",
       "</div>"
      ],
      "text/plain": [
       "                       Country Region Moody's rating  \\\n",
       "0                    Abu Dhabi      7            5.0   \n",
       "1                      Albania      6            8.0   \n",
       "2    Andorra (Principality of)      9           15.0   \n",
       "3                       Angola      1           10.0   \n",
       "4                    Argentina      5           18.0   \n",
       "..                         ...    ...            ...   \n",
       "152                    Uruguay      5           15.0   \n",
       "153                 Uzbekistan      6            8.0   \n",
       "154                  Venezuela      5           17.0   \n",
       "155                    Vietnam      2           13.0   \n",
       "156                     Zambia      1           18.0   \n",
       "\n",
       "     Rating-based Default Spread  Total Equity Risk Premium  \\\n",
       "0                           0.42                       4.73   \n",
       "1                           3.83                       8.69   \n",
       "2                           1.62                       6.12   \n",
       "3                           5.53                      10.67   \n",
       "4                          10.21                      16.11   \n",
       "..                           ...                        ...   \n",
       "152                         1.62                       6.12   \n",
       "153                         3.83                       8.69   \n",
       "154                        17.50                      24.58   \n",
       "155                         3.06                       7.80   \n",
       "156                        10.21                      16.11   \n",
       "\n",
       "     Country Risk Premium  Sovereign CDS, net of US  \\\n",
       "0                    0.49                      0.58   \n",
       "1                    4.45                       NaN   \n",
       "2                    1.88                       NaN   \n",
       "3                    6.43                      5.75   \n",
       "4                   11.87                     23.13   \n",
       "..                    ...                       ...   \n",
       "152                  1.88                      1.27   \n",
       "153                  4.45                       NaN   \n",
       "154                 20.34                       NaN   \n",
       "155                  3.56                      1.37   \n",
       "156                 11.87                       NaN   \n",
       "\n",
       "     Total Equity Risk Premium2  Country Risk Premium3  \n",
       "0                          4.91                   0.67  \n",
       "1                           NaN                    NaN  \n",
       "2                           NaN                    NaN  \n",
       "3                         10.92                   6.68  \n",
       "4                         31.12                  26.88  \n",
       "..                          ...                    ...  \n",
       "152                        5.72                   1.48  \n",
       "153                         NaN                    NaN  \n",
       "154                         NaN                    NaN  \n",
       "155                        5.83                   1.59  \n",
       "156                         NaN                    NaN  \n",
       "\n",
       "[157 rows x 9 columns]"
      ]
     },
     "execution_count": 45,
     "metadata": {},
     "output_type": "execute_result"
    }
   ],
   "source": [
    "df_ERP"
   ]
  },
  {
   "cell_type": "markdown",
   "id": "4e39ceef-512a-4633-9483-1f636585c504",
   "metadata": {},
   "source": [
    "`Country Risk Premium` und `Total Equity Risk Premium` haben nahezu die gleiche Dichtefunktion, aber mit verschiedenen Mittelwerten."
   ]
  },
  {
   "cell_type": "code",
   "execution_count": 46,
   "id": "0c714ed3-4b4c-4801-b920-3de74d9923eb",
   "metadata": {},
   "outputs": [
    {
     "data": {
      "text/plain": [
       "<AxesSubplot:xlabel='Country Risk Premium', ylabel='Density'>"
      ]
     },
     "execution_count": 46,
     "metadata": {},
     "output_type": "execute_result"
    },
    {
     "data": {
      "image/png": "[encoded data removed]",
      "text/plain": [
       "<Figure size 432x288 with 1 Axes>"
      ]
     },
     "metadata": {
      "needs_background": "light"
     },
     "output_type": "display_data"
    }
   ],
   "source": [
    "sns.kdeplot(data=df_ERP, x = \"Country Risk Premium\", cut = 0)\n",
    "sns.kdeplot(data=df_ERP, x = \"Total Equity Risk Premium\", cut = 0)"
   ]
  },
  {
   "cell_type": "markdown",
   "id": "c515c810-7bab-4d6b-9492-d2d3dde73c4d",
   "metadata": {},
   "source": [
    "## Augmented Dickey Fuller Test"
   ]
  },
  {
   "cell_type": "code",
   "execution_count": 25,
   "id": "4bf10fd5-0008-4083-8315-ea258dd0d118",
   "metadata": {},
   "outputs": [
    {
     "data": {
      "application/vnd.plotly.v1+json": {
       "config": {
        "plotlyServerURL": "https://plot.ly"
       },
       "data": [
        {
         "mode": "lines",
         "type": "scatter",
         "x": [
          0,
          1,
          2,
          3,
          4,
          5,
          6,
          7,
          8,
          9,
          10,
          11,
          12,
          13,
          14,
          15,
          16,
          17,
          18,
          19,
          20,
          21,
          22,
          23,
          24,
          25,
          26,
          27,
          28,
          29,
          30,
          31,
          32,
          33,
          34,
          35,
          36,
          37,
          38,
          39,
          40,
          41,
          42,
          43,
          44,
          45,
          46,
          47,
          48,
          49,
          50,
          51,
          52,
          53,
          54,
          55,
          56,
          57,
          58,
          59,
          60,
          61,
          62,
          63,
          64,
          65,
          66,
          67,
          68,
          69,
          70,
          71,
          72,
          73,
          74,
          75,
          76,
          77,
          78,
          79,
          80,
          81,
          82,
          83,
          84,
          85,
          86,
          87,
          88,
          89,
          90,
          91,
          92,
          93,
          94,
          95,
          96,
          97,
          98,
          99,
          100,
          101,
          102,
          103,
          104,
          105,
          106,
          107,
          108,
          109,
          110,
          111,
          112,
          113,
          114,
          115,
          116,
          117,
          118,
          119,
          120,
          121,
          122,
          123,
          124,
          125,
          126,
          127,
          128,
          129,
          130,
          131,
          132,
          133,
          134,
          135,
          136,
          137,
          138,
          139,
          140,
          141,
          142,
          143,
          144,
          145,
          146,
          147,
          148,
          149,
          150,
          151,
          152,
          153,
          154,
          155,
          156
         ],
         "y": [
          0.49,
          4.45,
          1.88,
          6.43,
          11.87,
          3.56,
          1.88,
          0,
          0.39,
          2.97,
          3.56,
          5.44,
          3.56,
          7.41,
          6.43,
          0.6,
          9.89,
          4.45,
          0.84,
          5.44,
          6.43,
          1.19,
          2.97,
          1.58,
          5.44,
          5.44,
          5.44,
          0,
          6.43,
          0.6,
          0.7,
          0.7,
          1.88,
          7.41,
          8.9,
          4.45,
          5.44,
          3.56,
          2.47,
          11.87,
          1.88,
          2.47,
          0.6,
          0,
          3.56,
          9.89,
          5.44,
          7.41,
          0.7,
          8.9,
          4.45,
          0.39,
          0.49,
          7.41,
          2.97,
          0,
          6.43,
          3.56,
          2.47,
          0.6,
          4.45,
          0.6,
          1.88,
          0.84,
          2.18,
          1.88,
          7.41,
          0.84,
          0.6,
          0.7,
          2.18,
          5.44,
          0.7,
          0,
          4.45,
          1.88,
          5.44,
          0.49,
          0.7,
          5.44,
          8.9,
          1.19,
          20.34,
          0,
          0.84,
          0,
          0.6,
          3.56,
          1.19,
          7.41,
          7.41,
          0.84,
          1.88,
          1.58,
          6.43,
          6.43,
          4.45,
          2.18,
          2.47,
          8.9,
          3.56,
          0,
          0,
          6.43,
          6.43,
          5.44,
          0,
          3.56,
          6.43,
          1.88,
          5.44,
          2.47,
          1.58,
          1.88,
          0.84,
          1.88,
          0.6,
          1.19,
          2.18,
          2.18,
          5.44,
          0.7,
          3.56,
          2.97,
          2.18,
          0,
          0.84,
          1.19,
          7.41,
          2.97,
          1.58,
          8.9,
          2.97,
          6.43,
          9.89,
          6.43,
          0,
          0,
          0.6,
          6.43,
          5.44,
          1.58,
          6.43,
          2.97,
          7.41,
          5.44,
          1.58,
          5.44,
          6.43,
          0.49,
          0.6,
          0,
          1.88,
          4.45,
          20.34,
          3.56,
          11.87
         ]
        },
        {
         "mode": "lines",
         "type": "scatter",
         "x": [
          0,
          1,
          2,
          3,
          4,
          5,
          6,
          7,
          8,
          9,
          10,
          11,
          12,
          13,
          14,
          15,
          16,
          17,
          18,
          19,
          20,
          21,
          22,
          23,
          24,
          25,
          26,
          27,
          28,
          29,
          30,
          31,
          32,
          33,
          34,
          35,
          36,
          37,
          38,
          39,
          40,
          41,
          42,
          43,
          44,
          45,
          46,
          47,
          48,
          49,
          50,
          51,
          52,
          53,
          54,
          55,
          56,
          57,
          58,
          59,
          60,
          61,
          62,
          63,
          64,
          65,
          66,
          67,
          68,
          69,
          70,
          71,
          72,
          73,
          74,
          75,
          76,
          77,
          78,
          79,
          80,
          81,
          82,
          83,
          84,
          85,
          86,
          87,
          88,
          89,
          90,
          91,
          92,
          93,
          94,
          95,
          96,
          97,
          98,
          99,
          100,
          101,
          102,
          103,
          104,
          105,
          106,
          107,
          108,
          109,
          110,
          111,
          112,
          113,
          114,
          115,
          116,
          117,
          118,
          119,
          120,
          121,
          122,
          123,
          124,
          125,
          126,
          127,
          128,
          129,
          130,
          131,
          132,
          133,
          134,
          135,
          136,
          137,
          138,
          139,
          140,
          141,
          142,
          143,
          144,
          145,
          146,
          147,
          148,
          149,
          150,
          151,
          152,
          153,
          154,
          155,
          156
         ],
         "y": [
          4.73,
          8.69,
          6.12,
          10.67,
          16.11,
          7.8,
          6.12,
          4.24,
          4.63,
          7.21,
          7.8,
          9.68,
          7.8,
          11.65,
          10.67,
          4.84,
          14.13,
          8.69,
          5.08,
          9.68,
          10.67,
          5.43,
          7.21,
          5.82,
          9.68,
          9.68,
          9.68,
          4.24,
          10.67,
          4.84,
          4.94,
          4.94,
          6.12,
          11.65,
          13.14,
          8.69,
          9.68,
          7.8,
          6.71,
          16.11,
          6.12,
          6.71,
          4.84,
          4.24,
          7.8,
          14.13,
          9.68,
          11.65,
          4.94,
          13.14,
          8.69,
          4.63,
          4.73,
          11.65,
          7.21,
          4.24,
          10.67,
          7.8,
          6.71,
          4.84,
          8.69,
          4.84,
          6.12,
          5.08,
          6.42,
          6.12,
          11.65,
          5.08,
          4.84,
          4.94,
          6.42,
          9.68,
          4.94,
          4.24,
          8.69,
          6.12,
          9.68,
          4.73,
          4.94,
          9.68,
          13.14,
          5.43,
          24.58,
          4.24,
          5.08,
          4.24,
          4.84,
          7.8,
          5.43,
          11.65,
          11.65,
          5.08,
          6.12,
          5.82,
          10.67,
          10.67,
          8.69,
          6.42,
          6.71,
          13.14,
          7.8,
          4.24,
          4.24,
          10.67,
          10.67,
          9.68,
          4.24,
          7.8,
          10.67,
          6.12,
          9.68,
          6.71,
          5.82,
          6.12,
          5.08,
          6.12,
          4.84,
          5.43,
          6.42,
          6.42,
          9.68,
          4.94,
          7.8,
          7.21,
          6.42,
          4.24,
          5.08,
          5.43,
          11.65,
          7.21,
          5.82,
          13.14,
          7.21,
          10.67,
          14.13,
          10.67,
          4.24,
          4.24,
          4.84,
          10.67,
          9.68,
          5.82,
          10.67,
          7.21,
          11.65,
          9.68,
          5.82,
          9.68,
          10.67,
          4.73,
          4.84,
          4.24,
          6.12,
          8.69,
          24.58,
          7.8,
          16.11
         ]
        }
       ],
       "layout": {
        "autosize": true,
        "template": {
         "data": {
          "bar": [
           {
            "error_x": {
             "color": "#2a3f5f"
            },
            "error_y": {
             "color": "#2a3f5f"
            },
            "marker": {
             "line": {
              "color": "#E5ECF6",
              "width": 0.5
             },
             "pattern": {
              "fillmode": "overlay",
              "size": 10,
              "solidity": 0.2
             }
            },
            "type": "bar"
           }
          ],
          "barpolar": [
           {
            "marker": {
             "line": {
              "color": "#E5ECF6",
              "width": 0.5
             },
             "pattern": {
              "fillmode": "overlay",
              "size": 10,
              "solidity": 0.2
             }
            },
            "type": "barpolar"
           }
          ],
          "carpet": [
           {
            "aaxis": {
             "endlinecolor": "#2a3f5f",
             "gridcolor": "white",
             "linecolor": "white",
             "minorgridcolor": "white",
             "startlinecolor": "#2a3f5f"
            },
            "baxis": {
             "endlinecolor": "#2a3f5f",
             "gridcolor": "white",
             "linecolor": "white",
             "minorgridcolor": "white",
             "startlinecolor": "#2a3f5f"
            },
            "type": "carpet"
           }
          ],
          "choropleth": [
           {
            "colorbar": {
             "outlinewidth": 0,
             "ticks": ""
            },
            "type": "choropleth"
           }
          ],
          "contour": [
           {
            "colorbar": {
             "outlinewidth": 0,
             "ticks": ""
            },
            "colorscale": [
             [
              0,
              "#0d0887"
             ],
             [
              0.1111111111111111,
              "#46039f"
             ],
             [
              0.2222222222222222,
              "#7201a8"
             ],
             [
              0.3333333333333333,
              "#9c179e"
             ],
             [
              0.4444444444444444,
              "#bd3786"
             ],
             [
              0.5555555555555556,
              "#d8576b"
             ],
             [
              0.6666666666666666,
              "#ed7953"
             ],
             [
              0.7777777777777778,
              "#fb9f3a"
             ],
             [
              0.8888888888888888,
              "#fdca26"
             ],
             [
              1,
              "#f0f921"
             ]
            ],
            "type": "contour"
           }
          ],
          "contourcarpet": [
           {
            "colorbar": {
             "outlinewidth": 0,
             "ticks": ""
            },
            "type": "contourcarpet"
           }
          ],
          "heatmap": [
           {
            "colorbar": {
             "outlinewidth": 0,
             "ticks": ""
            },
            "colorscale": [
             [
              0,
              "#0d0887"
             ],
             [
              0.1111111111111111,
              "#46039f"
             ],
             [
              0.2222222222222222,
              "#7201a8"
             ],
             [
              0.3333333333333333,
              "#9c179e"
             ],
             [
              0.4444444444444444,
              "#bd3786"
             ],
             [
              0.5555555555555556,
              "#d8576b"
             ],
             [
              0.6666666666666666,
              "#ed7953"
             ],
             [
              0.7777777777777778,
              "#fb9f3a"
             ],
             [
              0.8888888888888888,
              "#fdca26"
             ],
             [
              1,
              "#f0f921"
             ]
            ],
            "type": "heatmap"
           }
          ],
          "heatmapgl": [
           {
            "colorbar": {
             "outlinewidth": 0,
             "ticks": ""
            },
            "colorscale": [
             [
              0,
              "#0d0887"
             ],
             [
              0.1111111111111111,
              "#46039f"
             ],
             [
              0.2222222222222222,
              "#7201a8"
             ],
             [
              0.3333333333333333,
              "#9c179e"
             ],
             [
              0.4444444444444444,
              "#bd3786"
             ],
             [
              0.5555555555555556,
              "#d8576b"
             ],
             [
              0.6666666666666666,
              "#ed7953"
             ],
             [
              0.7777777777777778,
              "#fb9f3a"
             ],
             [
              0.8888888888888888,
              "#fdca26"
             ],
             [
              1,
              "#f0f921"
             ]
            ],
            "type": "heatmapgl"
           }
          ],
          "histogram": [
           {
            "marker": {
             "pattern": {
              "fillmode": "overlay",
              "size": 10,
              "solidity": 0.2
             }
            },
            "type": "histogram"
           }
          ],
          "histogram2d": [
           {
            "colorbar": {
             "outlinewidth": 0,
             "ticks": ""
            },
            "colorscale": [
             [
              0,
              "#0d0887"
             ],
             [
              0.1111111111111111,
              "#46039f"
             ],
             [
              0.2222222222222222,
              "#7201a8"
             ],
             [
              0.3333333333333333,
              "#9c179e"
             ],
             [
              0.4444444444444444,
              "#bd3786"
             ],
             [
              0.5555555555555556,
              "#d8576b"
             ],
             [
              0.6666666666666666,
              "#ed7953"
             ],
             [
              0.7777777777777778,
              "#fb9f3a"
             ],
             [
              0.8888888888888888,
              "#fdca26"
             ],
             [
              1,
              "#f0f921"
             ]
            ],
            "type": "histogram2d"
           }
          ],
          "histogram2dcontour": [
           {
            "colorbar": {
             "outlinewidth": 0,
             "ticks": ""
            },
            "colorscale": [
             [
              0,
              "#0d0887"
             ],
             [
              0.1111111111111111,
              "#46039f"
             ],
             [
              0.2222222222222222,
              "#7201a8"
             ],
             [
              0.3333333333333333,
              "#9c179e"
             ],
             [
              0.4444444444444444,
              "#bd3786"
             ],
             [
              0.5555555555555556,
              "#d8576b"
             ],
             [
              0.6666666666666666,
              "#ed7953"
             ],
             [
              0.7777777777777778,
              "#fb9f3a"
             ],
             [
              0.8888888888888888,
              "#fdca26"
             ],
             [
              1,
              "#f0f921"
             ]
            ],
            "type": "histogram2dcontour"
           }
          ],
          "mesh3d": [
           {
            "colorbar": {
             "outlinewidth": 0,
             "ticks": ""
            },
            "type": "mesh3d"
           }
          ],
          "parcoords": [
           {
            "line": {
             "colorbar": {
              "outlinewidth": 0,
              "ticks": ""
             }
            },
            "type": "parcoords"
           }
          ],
          "pie": [
           {
            "automargin": true,
            "type": "pie"
           }
          ],
          "scatter": [
           {
            "fillpattern": {
             "fillmode": "overlay",
             "size": 10,
             "solidity": 0.2
            },
            "type": "scatter"
           }
          ],
          "scatter3d": [
           {
            "line": {
             "colorbar": {
              "outlinewidth": 0,
              "ticks": ""
             }
            },
            "marker": {
             "colorbar": {
              "outlinewidth": 0,
              "ticks": ""
             }
            },
            "type": "scatter3d"
           }
          ],
          "scattercarpet": [
           {
            "marker": {
             "colorbar": {
              "outlinewidth": 0,
              "ticks": ""
             }
            },
            "type": "scattercarpet"
           }
          ],
          "scattergeo": [
           {
            "marker": {
             "colorbar": {
              "outlinewidth": 0,
              "ticks": ""
             }
            },
            "type": "scattergeo"
           }
          ],
          "scattergl": [
           {
            "marker": {
             "colorbar": {
              "outlinewidth": 0,
              "ticks": ""
             }
            },
            "type": "scattergl"
           }
          ],
          "scattermapbox": [
           {
            "marker": {
             "colorbar": {
              "outlinewidth": 0,
              "ticks": ""
             }
            },
            "type": "scattermapbox"
           }
          ],
          "scatterpolar": [
           {
            "marker": {
             "colorbar": {
              "outlinewidth": 0,
              "ticks": ""
             }
            },
            "type": "scatterpolar"
           }
          ],
          "scatterpolargl": [
           {
            "marker": {
             "colorbar": {
              "outlinewidth": 0,
              "ticks": ""
             }
            },
            "type": "scatterpolargl"
           }
          ],
          "scatterternary": [
           {
            "marker": {
             "colorbar": {
              "outlinewidth": 0,
              "ticks": ""
             }
            },
            "type": "scatterternary"
           }
          ],
          "surface": [
           {
            "colorbar": {
             "outlinewidth": 0,
             "ticks": ""
            },
            "colorscale": [
             [
              0,
              "#0d0887"
             ],
             [
              0.1111111111111111,
              "#46039f"
             ],
             [
              0.2222222222222222,
              "#7201a8"
             ],
             [
              0.3333333333333333,
              "#9c179e"
             ],
             [
              0.4444444444444444,
              "#bd3786"
             ],
             [
              0.5555555555555556,
              "#d8576b"
             ],
             [
              0.6666666666666666,
              "#ed7953"
             ],
             [
              0.7777777777777778,
              "#fb9f3a"
             ],
             [
              0.8888888888888888,
              "#fdca26"
             ],
             [
              1,
              "#f0f921"
             ]
            ],
            "type": "surface"
           }
          ],
          "table": [
           {
            "cells": {
             "fill": {
              "color": "#EBF0F8"
             },
             "line": {
              "color": "white"
             }
            },
            "header": {
             "fill": {
              "color": "#C8D4E3"
             },
             "line": {
              "color": "white"
             }
            },
            "type": "table"
           }
          ]
         },
         "layout": {
          "annotationdefaults": {
           "arrowcolor": "#2a3f5f",
           "arrowhead": 0,
           "arrowwidth": 1
          },
          "autotypenumbers": "strict",
          "coloraxis": {
           "colorbar": {
            "outlinewidth": 0,
            "ticks": ""
           }
          },
          "colorscale": {
           "diverging": [
            [
             0,
             "#8e0152"
            ],
            [
             0.1,
             "#c51b7d"
            ],
            [
             0.2,
             "#de77ae"
            ],
            [
             0.3,
             "#f1b6da"
            ],
            [
             0.4,
             "#fde0ef"
            ],
            [
             0.5,
             "#f7f7f7"
            ],
            [
             0.6,
             "#e6f5d0"
            ],
            [
             0.7,
             "#b8e186"
            ],
            [
             0.8,
             "#7fbc41"
            ],
            [
             0.9,
             "#4d9221"
            ],
            [
             1,
             "#276419"
            ]
           ],
           "sequential": [
            [
             0,
             "#0d0887"
            ],
            [
             0.1111111111111111,
             "#46039f"
            ],
            [
             0.2222222222222222,
             "#7201a8"
            ],
            [
             0.3333333333333333,
             "#9c179e"
            ],
            [
             0.4444444444444444,
             "#bd3786"
            ],
            [
             0.5555555555555556,
             "#d8576b"
            ],
            [
             0.6666666666666666,
             "#ed7953"
            ],
            [
             0.7777777777777778,
             "#fb9f3a"
            ],
            [
             0.8888888888888888,
             "#fdca26"
            ],
            [
             1,
             "#f0f921"
            ]
           ],
           "sequentialminus": [
            [
             0,
             "#0d0887"
            ],
            [
             0.1111111111111111,
             "#46039f"
            ],
            [
             0.2222222222222222,
             "#7201a8"
            ],
            [
             0.3333333333333333,
             "#9c179e"
            ],
            [
             0.4444444444444444,
             "#bd3786"
            ],
            [
             0.5555555555555556,
             "#d8576b"
            ],
            [
             0.6666666666666666,
             "#ed7953"
            ],
            [
             0.7777777777777778,
             "#fb9f3a"
            ],
            [
             0.8888888888888888,
             "#fdca26"
            ],
            [
             1,
             "#f0f921"
            ]
           ]
          },
          "colorway": [
           "#636efa",
           "#EF553B",
           "#00cc96",
           "#ab63fa",
           "#FFA15A",
           "#19d3f3",
           "#FF6692",
           "#B6E880",
           "#FF97FF",
           "#FECB52"
          ],
          "font": {
           "color": "#2a3f5f"
          },
          "geo": {
           "bgcolor": "white",
           "lakecolor": "white",
           "landcolor": "#E5ECF6",
           "showlakes": true,
           "showland": true,
           "subunitcolor": "white"
          },
          "hoverlabel": {
           "align": "left"
          },
          "hovermode": "closest",
          "mapbox": {
           "style": "light"
          },
          "paper_bgcolor": "white",
          "plot_bgcolor": "#E5ECF6",
          "polar": {
           "angularaxis": {
            "gridcolor": "white",
            "linecolor": "white",
            "ticks": ""
           },
           "bgcolor": "#E5ECF6",
           "radialaxis": {
            "gridcolor": "white",
            "linecolor": "white",
            "ticks": ""
           }
          },
          "scene": {
           "xaxis": {
            "backgroundcolor": "#E5ECF6",
            "gridcolor": "white",
            "gridwidth": 2,
            "linecolor": "white",
            "showbackground": true,
            "ticks": "",
            "zerolinecolor": "white"
           },
           "yaxis": {
            "backgroundcolor": "#E5ECF6",
            "gridcolor": "white",
            "gridwidth": 2,
            "linecolor": "white",
            "showbackground": true,
            "ticks": "",
            "zerolinecolor": "white"
           },
           "zaxis": {
            "backgroundcolor": "#E5ECF6",
            "gridcolor": "white",
            "gridwidth": 2,
            "linecolor": "white",
            "showbackground": true,
            "ticks": "",
            "zerolinecolor": "white"
           }
          },
          "shapedefaults": {
           "line": {
            "color": "#2a3f5f"
           }
          },
          "ternary": {
           "aaxis": {
            "gridcolor": "white",
            "linecolor": "white",
            "ticks": ""
           },
           "baxis": {
            "gridcolor": "white",
            "linecolor": "white",
            "ticks": ""
           },
           "bgcolor": "#E5ECF6",
           "caxis": {
            "gridcolor": "white",
            "linecolor": "white",
            "ticks": ""
           }
          },
          "title": {
           "x": 0.05
          },
          "xaxis": {
           "automargin": true,
           "gridcolor": "white",
           "linecolor": "white",
           "ticks": "",
           "title": {
            "standoff": 15
           },
           "zerolinecolor": "white",
           "zerolinewidth": 2
          },
          "yaxis": {
           "automargin": true,
           "gridcolor": "white",
           "linecolor": "white",
           "ticks": "",
           "title": {
            "standoff": 15
           },
           "zerolinecolor": "white",
           "zerolinewidth": 2
          }
         }
        },
        "xaxis": {
         "anchor": "y",
         "autorange": true,
         "domain": [
          0,
          1
         ],
         "range": [
          0,
          156
         ],
         "type": "linear"
        },
        "yaxis": {
         "anchor": "x",
         "autorange": true,
         "domain": [
          0,
          1
         ],
         "range": [
          -1.3655555555555554,
          25.945555555555554
         ],
         "type": "linear"
        }
       }
      },
      "image/png": "[encoded data removed]",
      "text/html": [
       "<div>                            <div id=\"e9976f46-9154-4d38-be50-907472026ca4\" class=\"plotly-graph-div\" style=\"height:525px; width:100%;\"></div>            <script type=\"text/javascript\">                require([\"plotly\"], function(Plotly) {                    window.PLOTLYENV=window.PLOTLYENV || {};                                    if (document.getElementById(\"e9976f46-9154-4d38-be50-907472026ca4\")) {                    Plotly.newPlot(                        \"e9976f46-9154-4d38-be50-907472026ca4\",                        [{\"mode\":\"lines\",\"x\":[0,1,2,3,4,5,6,7,8,9,10,11,12,13,14,15,16,17,18,19,20,21,22,23,24,25,26,27,28,29,30,31,32,33,34,35,36,37,38,39,40,41,42,43,44,45,46,47,48,49,50,51,52,53,54,55,56,57,58,59,60,61,62,63,64,65,66,67,68,69,70,71,72,73,74,75,76,77,78,79,80,81,82,83,84,85,86,87,88,89,90,91,92,93,94,95,96,97,98,99,100,101,102,103,104,105,106,107,108,109,110,111,112,113,114,115,116,117,118,119,120,121,122,123,124,125,126,127,128,129,130,131,132,133,134,135,136,137,138,139,140,141,142,143,144,145,146,147,148,149,150,151,152,153,154,155,156],\"y\":[0.49,4.45,1.88,6.43,11.87,3.56,1.88,0.0,0.39,2.97,3.56,5.44,3.56,7.41,6.43,0.6,9.89,4.45,0.84,5.44,6.43,1.19,2.97,1.58,5.44,5.44,5.44,0.0,6.43,0.6,0.7,0.7,1.88,7.41,8.9,4.45,5.44,3.56,2.47,11.87,1.88,2.47,0.6,0.0,3.56,9.89,5.44,7.41,0.7,8.9,4.45,0.39,0.49,7.41,2.97,0.0,6.43,3.56,2.47,0.6,4.45,0.6,1.88,0.84,2.18,1.88,7.41,0.84,0.6,0.7,2.18,5.44,0.7,0.0,4.45,1.88,5.44,0.49,0.7,5.44,8.9,1.19,20.34,0.0,0.84,0.0,0.6,3.56,1.19,7.41,7.41,0.84,1.88,1.58,6.43,6.43,4.45,2.18,2.47,8.9,3.56,0.0,0.0,6.43,6.43,5.44,0.0,3.56,6.43,1.88,5.44,2.47,1.58,1.88,0.84,1.88,0.6,1.19,2.18,2.18,5.44,0.7,3.56,2.97,2.18,0.0,0.84,1.19,7.41,2.97,1.58,8.9,2.97,6.43,9.89,6.43,0.0,0.0,0.6,6.43,5.44,1.58,6.43,2.97,7.41,5.44,1.58,5.44,6.43,0.49,0.6,0.0,1.88,4.45,20.34,3.56,11.87],\"type\":\"scatter\"},{\"mode\":\"lines\",\"x\":[0,1,2,3,4,5,6,7,8,9,10,11,12,13,14,15,16,17,18,19,20,21,22,23,24,25,26,27,28,29,30,31,32,33,34,35,36,37,38,39,40,41,42,43,44,45,46,47,48,49,50,51,52,53,54,55,56,57,58,59,60,61,62,63,64,65,66,67,68,69,70,71,72,73,74,75,76,77,78,79,80,81,82,83,84,85,86,87,88,89,90,91,92,93,94,95,96,97,98,99,100,101,102,103,104,105,106,107,108,109,110,111,112,113,114,115,116,117,118,119,120,121,122,123,124,125,126,127,128,129,130,131,132,133,134,135,136,137,138,139,140,141,142,143,144,145,146,147,148,149,150,151,152,153,154,155,156],\"y\":[4.73,8.69,6.12,10.67,16.11,7.8,6.12,4.24,4.63,7.21,7.8,9.68,7.8,11.65,10.67,4.84,14.13,8.69,5.08,9.68,10.67,5.43,7.21,5.82,9.68,9.68,9.68,4.24,10.67,4.84,4.94,4.94,6.12,11.65,13.14,8.69,9.68,7.8,6.71,16.11,6.12,6.71,4.84,4.24,7.8,14.13,9.68,11.65,4.94,13.14,8.69,4.63,4.73,11.65,7.21,4.24,10.67,7.8,6.71,4.84,8.69,4.84,6.12,5.08,6.42,6.12,11.65,5.08,4.84,4.94,6.42,9.68,4.94,4.24,8.69,6.12,9.68,4.73,4.94,9.68,13.14,5.43,24.58,4.24,5.08,4.24,4.84,7.8,5.43,11.65,11.65,5.08,6.12,5.82,10.67,10.67,8.69,6.42,6.71,13.14,7.8,4.24,4.24,10.67,10.67,9.68,4.24,7.8,10.67,6.12,9.68,6.71,5.82,6.12,5.08,6.12,4.84,5.43,6.42,6.42,9.68,4.94,7.8,7.21,6.42,4.24,5.08,5.43,11.65,7.21,5.82,13.14,7.21,10.67,14.13,10.67,4.24,4.24,4.84,10.67,9.68,5.82,10.67,7.21,11.65,9.68,5.82,9.68,10.67,4.73,4.84,4.24,6.12,8.69,24.58,7.8,16.11],\"type\":\"scatter\"}],                        {\"template\":{\"data\":{\"histogram2dcontour\":[{\"type\":\"histogram2dcontour\",\"colorbar\":{\"outlinewidth\":0,\"ticks\":\"\"},\"colorscale\":[[0.0,\"#0d0887\"],[0.1111111111111111,\"#46039f\"],[0.2222222222222222,\"#7201a8\"],[0.3333333333333333,\"#9c179e\"],[0.4444444444444444,\"#bd3786\"],[0.5555555555555556,\"#d8576b\"],[0.6666666666666666,\"#ed7953\"],[0.7777777777777778,\"#fb9f3a\"],[0.8888888888888888,\"#fdca26\"],[1.0,\"#f0f921\"]]}],\"choropleth\":[{\"type\":\"choropleth\",\"colorbar\":{\"outlinewidth\":0,\"ticks\":\"\"}}],\"histogram2d\":[{\"type\":\"histogram2d\",\"colorbar\":{\"outlinewidth\":0,\"ticks\":\"\"},\"colorscale\":[[0.0,\"#0d0887\"],[0.1111111111111111,\"#46039f\"],[0.2222222222222222,\"#7201a8\"],[0.3333333333333333,\"#9c179e\"],[0.4444444444444444,\"#bd3786\"],[0.5555555555555556,\"#d8576b\"],[0.6666666666666666,\"#ed7953\"],[0.7777777777777778,\"#fb9f3a\"],[0.8888888888888888,\"#fdca26\"],[1.0,\"#f0f921\"]]}],\"heatmap\":[{\"type\":\"heatmap\",\"colorbar\":{\"outlinewidth\":0,\"ticks\":\"\"},\"colorscale\":[[0.0,\"#0d0887\"],[0.1111111111111111,\"#46039f\"],[0.2222222222222222,\"#7201a8\"],[0.3333333333333333,\"#9c179e\"],[0.4444444444444444,\"#bd3786\"],[0.5555555555555556,\"#d8576b\"],[0.6666666666666666,\"#ed7953\"],[0.7777777777777778,\"#fb9f3a\"],[0.8888888888888888,\"#fdca26\"],[1.0,\"#f0f921\"]]}],\"heatmapgl\":[{\"type\":\"heatmapgl\",\"colorbar\":{\"outlinewidth\":0,\"ticks\":\"\"},\"colorscale\":[[0.0,\"#0d0887\"],[0.1111111111111111,\"#46039f\"],[0.2222222222222222,\"#7201a8\"],[0.3333333333333333,\"#9c179e\"],[0.4444444444444444,\"#bd3786\"],[0.5555555555555556,\"#d8576b\"],[0.6666666666666666,\"#ed7953\"],[0.7777777777777778,\"#fb9f3a\"],[0.8888888888888888,\"#fdca26\"],[1.0,\"#f0f921\"]]}],\"contourcarpet\":[{\"type\":\"contourcarpet\",\"colorbar\":{\"outlinewidth\":0,\"ticks\":\"\"}}],\"contour\":[{\"type\":\"contour\",\"colorbar\":{\"outlinewidth\":0,\"ticks\":\"\"},\"colorscale\":[[0.0,\"#0d0887\"],[0.1111111111111111,\"#46039f\"],[0.2222222222222222,\"#7201a8\"],[0.3333333333333333,\"#9c179e\"],[0.4444444444444444,\"#bd3786\"],[0.5555555555555556,\"#d8576b\"],[0.6666666666666666,\"#ed7953\"],[0.7777777777777778,\"#fb9f3a\"],[0.8888888888888888,\"#fdca26\"],[1.0,\"#f0f921\"]]}],\"surface\":[{\"type\":\"surface\",\"colorbar\":{\"outlinewidth\":0,\"ticks\":\"\"},\"colorscale\":[[0.0,\"#0d0887\"],[0.1111111111111111,\"#46039f\"],[0.2222222222222222,\"#7201a8\"],[0.3333333333333333,\"#9c179e\"],[0.4444444444444444,\"#bd3786\"],[0.5555555555555556,\"#d8576b\"],[0.6666666666666666,\"#ed7953\"],[0.7777777777777778,\"#fb9f3a\"],[0.8888888888888888,\"#fdca26\"],[1.0,\"#f0f921\"]]}],\"mesh3d\":[{\"type\":\"mesh3d\",\"colorbar\":{\"outlinewidth\":0,\"ticks\":\"\"}}],\"scatter\":[{\"fillpattern\":{\"fillmode\":\"overlay\",\"size\":10,\"solidity\":0.2},\"type\":\"scatter\"}],\"parcoords\":[{\"type\":\"parcoords\",\"line\":{\"colorbar\":{\"outlinewidth\":0,\"ticks\":\"\"}}}],\"scatterpolargl\":[{\"type\":\"scatterpolargl\",\"marker\":{\"colorbar\":{\"outlinewidth\":0,\"ticks\":\"\"}}}],\"bar\":[{\"error_x\":{\"color\":\"#2a3f5f\"},\"error_y\":{\"color\":\"#2a3f5f\"},\"marker\":{\"line\":{\"color\":\"#E5ECF6\",\"width\":0.5},\"pattern\":{\"fillmode\":\"overlay\",\"size\":10,\"solidity\":0.2}},\"type\":\"bar\"}],\"scattergeo\":[{\"type\":\"scattergeo\",\"marker\":{\"colorbar\":{\"outlinewidth\":0,\"ticks\":\"\"}}}],\"scatterpolar\":[{\"type\":\"scatterpolar\",\"marker\":{\"colorbar\":{\"outlinewidth\":0,\"ticks\":\"\"}}}],\"histogram\":[{\"marker\":{\"pattern\":{\"fillmode\":\"overlay\",\"size\":10,\"solidity\":0.2}},\"type\":\"histogram\"}],\"scattergl\":[{\"type\":\"scattergl\",\"marker\":{\"colorbar\":{\"outlinewidth\":0,\"ticks\":\"\"}}}],\"scatter3d\":[{\"type\":\"scatter3d\",\"line\":{\"colorbar\":{\"outlinewidth\":0,\"ticks\":\"\"}},\"marker\":{\"colorbar\":{\"outlinewidth\":0,\"ticks\":\"\"}}}],\"scattermapbox\":[{\"type\":\"scattermapbox\",\"marker\":{\"colorbar\":{\"outlinewidth\":0,\"ticks\":\"\"}}}],\"scatterternary\":[{\"type\":\"scatterternary\",\"marker\":{\"colorbar\":{\"outlinewidth\":0,\"ticks\":\"\"}}}],\"scattercarpet\":[{\"type\":\"scattercarpet\",\"marker\":{\"colorbar\":{\"outlinewidth\":0,\"ticks\":\"\"}}}],\"carpet\":[{\"aaxis\":{\"endlinecolor\":\"#2a3f5f\",\"gridcolor\":\"white\",\"linecolor\":\"white\",\"minorgridcolor\":\"white\",\"startlinecolor\":\"#2a3f5f\"},\"baxis\":{\"endlinecolor\":\"#2a3f5f\",\"gridcolor\":\"white\",\"linecolor\":\"white\",\"minorgridcolor\":\"white\",\"startlinecolor\":\"#2a3f5f\"},\"type\":\"carpet\"}],\"table\":[{\"cells\":{\"fill\":{\"color\":\"#EBF0F8\"},\"line\":{\"color\":\"white\"}},\"header\":{\"fill\":{\"color\":\"#C8D4E3\"},\"line\":{\"color\":\"white\"}},\"type\":\"table\"}],\"barpolar\":[{\"marker\":{\"line\":{\"color\":\"#E5ECF6\",\"width\":0.5},\"pattern\":{\"fillmode\":\"overlay\",\"size\":10,\"solidity\":0.2}},\"type\":\"barpolar\"}],\"pie\":[{\"automargin\":true,\"type\":\"pie\"}]},\"layout\":{\"autotypenumbers\":\"strict\",\"colorway\":[\"#636efa\",\"#EF553B\",\"#00cc96\",\"#ab63fa\",\"#FFA15A\",\"#19d3f3\",\"#FF6692\",\"#B6E880\",\"#FF97FF\",\"#FECB52\"],\"font\":{\"color\":\"#2a3f5f\"},\"hovermode\":\"closest\",\"hoverlabel\":{\"align\":\"left\"},\"paper_bgcolor\":\"white\",\"plot_bgcolor\":\"#E5ECF6\",\"polar\":{\"bgcolor\":\"#E5ECF6\",\"angularaxis\":{\"gridcolor\":\"white\",\"linecolor\":\"white\",\"ticks\":\"\"},\"radialaxis\":{\"gridcolor\":\"white\",\"linecolor\":\"white\",\"ticks\":\"\"}},\"ternary\":{\"bgcolor\":\"#E5ECF6\",\"aaxis\":{\"gridcolor\":\"white\",\"linecolor\":\"white\",\"ticks\":\"\"},\"baxis\":{\"gridcolor\":\"white\",\"linecolor\":\"white\",\"ticks\":\"\"},\"caxis\":{\"gridcolor\":\"white\",\"linecolor\":\"white\",\"ticks\":\"\"}},\"coloraxis\":{\"colorbar\":{\"outlinewidth\":0,\"ticks\":\"\"}},\"colorscale\":{\"sequential\":[[0.0,\"#0d0887\"],[0.1111111111111111,\"#46039f\"],[0.2222222222222222,\"#7201a8\"],[0.3333333333333333,\"#9c179e\"],[0.4444444444444444,\"#bd3786\"],[0.5555555555555556,\"#d8576b\"],[0.6666666666666666,\"#ed7953\"],[0.7777777777777778,\"#fb9f3a\"],[0.8888888888888888,\"#fdca26\"],[1.0,\"#f0f921\"]],\"sequentialminus\":[[0.0,\"#0d0887\"],[0.1111111111111111,\"#46039f\"],[0.2222222222222222,\"#7201a8\"],[0.3333333333333333,\"#9c179e\"],[0.4444444444444444,\"#bd3786\"],[0.5555555555555556,\"#d8576b\"],[0.6666666666666666,\"#ed7953\"],[0.7777777777777778,\"#fb9f3a\"],[0.8888888888888888,\"#fdca26\"],[1.0,\"#f0f921\"]],\"diverging\":[[0,\"#8e0152\"],[0.1,\"#c51b7d\"],[0.2,\"#de77ae\"],[0.3,\"#f1b6da\"],[0.4,\"#fde0ef\"],[0.5,\"#f7f7f7\"],[0.6,\"#e6f5d0\"],[0.7,\"#b8e186\"],[0.8,\"#7fbc41\"],[0.9,\"#4d9221\"],[1,\"#276419\"]]},\"xaxis\":{\"gridcolor\":\"white\",\"linecolor\":\"white\",\"ticks\":\"\",\"title\":{\"standoff\":15},\"zerolinecolor\":\"white\",\"automargin\":true,\"zerolinewidth\":2},\"yaxis\":{\"gridcolor\":\"white\",\"linecolor\":\"white\",\"ticks\":\"\",\"title\":{\"standoff\":15},\"zerolinecolor\":\"white\",\"automargin\":true,\"zerolinewidth\":2},\"scene\":{\"xaxis\":{\"backgroundcolor\":\"#E5ECF6\",\"gridcolor\":\"white\",\"linecolor\":\"white\",\"showbackground\":true,\"ticks\":\"\",\"zerolinecolor\":\"white\",\"gridwidth\":2},\"yaxis\":{\"backgroundcolor\":\"#E5ECF6\",\"gridcolor\":\"white\",\"linecolor\":\"white\",\"showbackground\":true,\"ticks\":\"\",\"zerolinecolor\":\"white\",\"gridwidth\":2},\"zaxis\":{\"backgroundcolor\":\"#E5ECF6\",\"gridcolor\":\"white\",\"linecolor\":\"white\",\"showbackground\":true,\"ticks\":\"\",\"zerolinecolor\":\"white\",\"gridwidth\":2}},\"shapedefaults\":{\"line\":{\"color\":\"#2a3f5f\"}},\"annotationdefaults\":{\"arrowcolor\":\"#2a3f5f\",\"arrowhead\":0,\"arrowwidth\":1},\"geo\":{\"bgcolor\":\"white\",\"landcolor\":\"#E5ECF6\",\"subunitcolor\":\"white\",\"showland\":true,\"showlakes\":true,\"lakecolor\":\"white\"},\"title\":{\"x\":0.05},\"mapbox\":{\"style\":\"light\"}}},\"xaxis\":{\"anchor\":\"y\",\"domain\":[0.0,1.0]},\"yaxis\":{\"anchor\":\"x\",\"domain\":[0.0,1.0]}},                        {\"responsive\": true}                    ).then(function(){\n",
       "                            \n",
       "var gd = document.getElementById('e9976f46-9154-4d38-be50-907472026ca4');\n",
       "var x = new MutationObserver(function (mutations, observer) {{\n",
       "        var display = window.getComputedStyle(gd).display;\n",
       "        if (!display || display === 'none') {{\n",
       "            console.log([gd, 'removed!']);\n",
       "            Plotly.purge(gd);\n",
       "            observer.disconnect();\n",
       "        }}\n",
       "}});\n",
       "\n",
       "// Listen for the removal of the full notebook cells\n",
       "var notebookContainer = gd.closest('#notebook-container');\n",
       "if (notebookContainer) {{\n",
       "    x.observe(notebookContainer, {childList: true});\n",
       "}}\n",
       "\n",
       "// Listen for the clearing of the current output cell\n",
       "var outputEl = gd.closest('.output');\n",
       "if (outputEl) {{\n",
       "    x.observe(outputEl, {childList: true});\n",
       "}}\n",
       "\n",
       "                        })                };                });            </script>        </div>"
      ]
     },
     "metadata": {},
     "output_type": "display_data"
    }
   ],
   "source": [
    "country_series = df_ERP.loc[:, 'Country Risk Premium'].values\n",
    "total_series = df_ERP.loc[:, 'Total Equity Risk Premium'].values\n",
    "\n",
    "fig = make_subplots(rows=1, cols=1)\n",
    "fig.add_trace(go.Scatter(x = df_ERP.index, y = country_series, mode = \"lines\"))\n",
    "fig.add_trace(go.Scatter( x = df_ERP.index, y = total_series, mode = \"lines\"))\n",
    "fig.show()"
   ]
  },
  {
   "cell_type": "code",
   "execution_count": 18,
   "id": "c2d5ce7f-50c8-4f4a-85e7-de8f5373bea5",
   "metadata": {},
   "outputs": [
    {
     "name": "stdout",
     "output_type": "stream",
     "text": [
      "ADF Statistic: -11.971670956328943\n",
      "n_lags: 3.8853851430853146e-22\n",
      "p-value: 3.8853851430853146e-22\n",
      "Critial Values:\n",
      "   1%, -3.4729792729247793\n",
      "Critial Values:\n",
      "   5%, -2.8802520918255534\n",
      "Critial Values:\n",
      "   10%, -2.5767469641683105\n"
     ]
    }
   ],
   "source": [
    "# ADF for Country Risk Premium\n",
    "result = adfuller(country_series, autolag='AIC')\n",
    "print(f'ADF Statistic: {result[0]}')\n",
    "print(f'n_lags: {result[1]}')\n",
    "print(f'p-value: {result[1]}')\n",
    "for key, value in result[4].items():\n",
    "    print('Critial Values:')\n",
    "    print(f'   {key}, {value}') "
   ]
  },
  {
   "cell_type": "code",
   "execution_count": 26,
   "id": "fb3bf042-5a5e-44ff-abdf-76156d72fe4e",
   "metadata": {},
   "outputs": [
    {
     "name": "stdout",
     "output_type": "stream",
     "text": [
      "ADF Statistic: -11.971670956328941\n",
      "n_lags: 3.885385143085342e-22\n",
      "p-value: 3.885385143085342e-22\n",
      "Critial Values:\n",
      "   1%, -3.4729792729247793\n",
      "Critial Values:\n",
      "   5%, -2.8802520918255534\n",
      "Critial Values:\n",
      "   10%, -2.5767469641683105\n"
     ]
    }
   ],
   "source": [
    "# ADF for Total Equity Risk Premium\n",
    "result = adfuller(total_series, autolag='AIC')\n",
    "print(f'ADF Statistic: {result[0]}')\n",
    "print(f'n_lags: {result[1]}')\n",
    "print(f'p-value: {result[1]}')\n",
    "for key, value in result[4].items():\n",
    "    print('Critial Values:')\n",
    "    print(f'   {key}, {value}') "
   ]
  },
  {
   "cell_type": "markdown",
   "id": "f9d54526-74f1-434a-9a5b-211c1ba437dd",
   "metadata": {},
   "source": [
    "### Beide Merkmale sind stationary und statistisch nahezu identisch. Einzig der Mittelwert zwischen beiden Merkmalen ist verschoben."
   ]
  },
  {
   "cell_type": "markdown",
   "id": "d8143c8c-fc25-4a61-9e3b-ae4250f5b00d",
   "metadata": {},
   "source": [
    "## Skalierung der Daten"
   ]
  },
  {
   "cell_type": "code",
   "execution_count": 50,
   "id": "9da1076a-a94b-48d3-bbfb-d777a4d9acb6",
   "metadata": {},
   "outputs": [],
   "source": [
    "df_ERP = df_ERP.dropna()\n",
    "df_ERP = df_ERP.drop(columns = [\"Country\"])"
   ]
  },
  {
   "cell_type": "code",
   "execution_count": 51,
   "id": "b360c2a2-3f1a-4768-a8b3-7d22a76c2e0d",
   "metadata": {},
   "outputs": [
    {
     "data": {
      "text/html": [
       "<div>\n",
       "<style scoped>\n",
       "    .dataframe tbody tr th:only-of-type {\n",
       "        vertical-align: middle;\n",
       "    }\n",
       "\n",
       "    .dataframe tbody tr th {\n",
       "        vertical-align: top;\n",
       "    }\n",
       "\n",
       "    .dataframe thead th {\n",
       "        text-align: right;\n",
       "    }\n",
       "</style>\n",
       "<table border=\"1\" class=\"dataframe\">\n",
       "  <thead>\n",
       "    <tr style=\"text-align: right;\">\n",
       "      <th></th>\n",
       "      <th>Region</th>\n",
       "      <th>Moody's rating</th>\n",
       "      <th>Rating-based Default Spread</th>\n",
       "      <th>Total Equity Risk Premium</th>\n",
       "      <th>Country Risk Premium</th>\n",
       "      <th>Sovereign CDS, net of US</th>\n",
       "      <th>Total Equity Risk Premium2</th>\n",
       "      <th>Country Risk Premium3</th>\n",
       "    </tr>\n",
       "  </thead>\n",
       "  <tbody>\n",
       "    <tr>\n",
       "      <th>count</th>\n",
       "      <td>81.000000</td>\n",
       "      <td>81.000000</td>\n",
       "      <td>81.000000</td>\n",
       "      <td>81.000000</td>\n",
       "      <td>81.000000</td>\n",
       "      <td>81.000000</td>\n",
       "      <td>81.000000</td>\n",
       "      <td>81.000000</td>\n",
       "    </tr>\n",
       "    <tr>\n",
       "      <th>mean</th>\n",
       "      <td>-0.106996</td>\n",
       "      <td>0.066358</td>\n",
       "      <td>0.253036</td>\n",
       "      <td>0.254209</td>\n",
       "      <td>0.254209</td>\n",
       "      <td>0.733147</td>\n",
       "      <td>0.731948</td>\n",
       "      <td>0.731948</td>\n",
       "    </tr>\n",
       "    <tr>\n",
       "      <th>std</th>\n",
       "      <td>0.475299</td>\n",
       "      <td>0.690925</td>\n",
       "      <td>0.944193</td>\n",
       "      <td>0.943660</td>\n",
       "      <td>0.943660</td>\n",
       "      <td>1.887567</td>\n",
       "      <td>1.885911</td>\n",
       "      <td>1.885911</td>\n",
       "    </tr>\n",
       "    <tr>\n",
       "      <th>min</th>\n",
       "      <td>-0.833333</td>\n",
       "      <td>-1.000000</td>\n",
       "      <td>-0.658537</td>\n",
       "      <td>-0.657343</td>\n",
       "      <td>-0.657343</td>\n",
       "      <td>-0.305439</td>\n",
       "      <td>-0.305755</td>\n",
       "      <td>-0.305755</td>\n",
       "    </tr>\n",
       "    <tr>\n",
       "      <th>25%</th>\n",
       "      <td>-0.666667</td>\n",
       "      <td>-0.375000</td>\n",
       "      <td>-0.414634</td>\n",
       "      <td>-0.412587</td>\n",
       "      <td>-0.412587</td>\n",
       "      <td>-0.167364</td>\n",
       "      <td>-0.169065</td>\n",
       "      <td>-0.169065</td>\n",
       "    </tr>\n",
       "    <tr>\n",
       "      <th>50%</th>\n",
       "      <td>0.000000</td>\n",
       "      <td>0.000000</td>\n",
       "      <td>0.000000</td>\n",
       "      <td>0.000000</td>\n",
       "      <td>0.000000</td>\n",
       "      <td>0.000000</td>\n",
       "      <td>0.000000</td>\n",
       "      <td>0.000000</td>\n",
       "    </tr>\n",
       "    <tr>\n",
       "      <th>75%</th>\n",
       "      <td>0.333333</td>\n",
       "      <td>0.625000</td>\n",
       "      <td>0.585366</td>\n",
       "      <td>0.587413</td>\n",
       "      <td>0.587413</td>\n",
       "      <td>0.832636</td>\n",
       "      <td>0.830935</td>\n",
       "      <td>0.830935</td>\n",
       "    </tr>\n",
       "    <tr>\n",
       "      <th>max</th>\n",
       "      <td>0.500000</td>\n",
       "      <td>1.500000</td>\n",
       "      <td>3.491870</td>\n",
       "      <td>3.493007</td>\n",
       "      <td>3.493007</td>\n",
       "      <td>9.372385</td>\n",
       "      <td>9.363309</td>\n",
       "      <td>9.363309</td>\n",
       "    </tr>\n",
       "  </tbody>\n",
       "</table>\n",
       "</div>"
      ],
      "text/plain": [
       "          Region  Moody's rating  Rating-based Default Spread  \\\n",
       "count  81.000000       81.000000                    81.000000   \n",
       "mean   -0.106996        0.066358                     0.253036   \n",
       "std     0.475299        0.690925                     0.944193   \n",
       "min    -0.833333       -1.000000                    -0.658537   \n",
       "25%    -0.666667       -0.375000                    -0.414634   \n",
       "50%     0.000000        0.000000                     0.000000   \n",
       "75%     0.333333        0.625000                     0.585366   \n",
       "max     0.500000        1.500000                     3.491870   \n",
       "\n",
       "       Total Equity Risk Premium  Country Risk Premium  \\\n",
       "count                  81.000000             81.000000   \n",
       "mean                    0.254209              0.254209   \n",
       "std                     0.943660              0.943660   \n",
       "min                    -0.657343             -0.657343   \n",
       "25%                    -0.412587             -0.412587   \n",
       "50%                     0.000000              0.000000   \n",
       "75%                     0.587413              0.587413   \n",
       "max                     3.493007              3.493007   \n",
       "\n",
       "       Sovereign CDS, net of US  Total Equity Risk Premium2  \\\n",
       "count                 81.000000                   81.000000   \n",
       "mean                   0.733147                    0.731948   \n",
       "std                    1.887567                    1.885911   \n",
       "min                   -0.305439                   -0.305755   \n",
       "25%                   -0.167364                   -0.169065   \n",
       "50%                    0.000000                    0.000000   \n",
       "75%                    0.832636                    0.830935   \n",
       "max                    9.372385                    9.363309   \n",
       "\n",
       "       Country Risk Premium3  \n",
       "count              81.000000  \n",
       "mean                0.731948  \n",
       "std                 1.885911  \n",
       "min                -0.305755  \n",
       "25%                -0.169065  \n",
       "50%                 0.000000  \n",
       "75%                 0.830935  \n",
       "max                 9.363309  "
      ]
     },
     "execution_count": 51,
     "metadata": {},
     "output_type": "execute_result"
    }
   ],
   "source": [
    "scaler = RobustScaler()\n",
    "df_ERP_scaled = pd.DataFrame(scaler.fit_transform(df_ERP), columns = df_ERP.columns)\n",
    "df_ERP_scaled.describe()"
   ]
  },
  {
   "cell_type": "markdown",
   "id": "55624b46-18a4-4690-8a17-dfcd18009c89",
   "metadata": {},
   "source": [
    "### Country Risk Premium soll ermittelt werden"
   ]
  },
  {
   "cell_type": "code",
   "execution_count": 56,
   "id": "993bd511-2c4d-4b5e-914c-ad29989c7955",
   "metadata": {},
   "outputs": [
    {
     "data": {
      "text/html": [
       "<div>\n",
       "<style scoped>\n",
       "    .dataframe tbody tr th:only-of-type {\n",
       "        vertical-align: middle;\n",
       "    }\n",
       "\n",
       "    .dataframe tbody tr th {\n",
       "        vertical-align: top;\n",
       "    }\n",
       "\n",
       "    .dataframe thead th {\n",
       "        text-align: right;\n",
       "    }\n",
       "</style>\n",
       "<table border=\"1\" class=\"dataframe\">\n",
       "  <thead>\n",
       "    <tr style=\"text-align: right;\">\n",
       "      <th></th>\n",
       "      <th>Region</th>\n",
       "      <th>Moody's rating</th>\n",
       "      <th>Rating-based Default Spread</th>\n",
       "      <th>Sovereign CDS, net of US</th>\n",
       "      <th>Total Equity Risk Premium2</th>\n",
       "      <th>Country Risk Premium3</th>\n",
       "    </tr>\n",
       "  </thead>\n",
       "  <tbody>\n",
       "    <tr>\n",
       "      <th>61</th>\n",
       "      <td>0.000000</td>\n",
       "      <td>0.875</td>\n",
       "      <td>0.101626</td>\n",
       "      <td>0.326360</td>\n",
       "      <td>0.327338</td>\n",
       "      <td>0.327338</td>\n",
       "    </tr>\n",
       "    <tr>\n",
       "      <th>55</th>\n",
       "      <td>-0.166667</td>\n",
       "      <td>0.625</td>\n",
       "      <td>-0.105691</td>\n",
       "      <td>0.163180</td>\n",
       "      <td>0.161871</td>\n",
       "      <td>0.161871</td>\n",
       "    </tr>\n",
       "    <tr>\n",
       "      <th>40</th>\n",
       "      <td>-0.666667</td>\n",
       "      <td>-0.500</td>\n",
       "      <td>-0.487805</td>\n",
       "      <td>-0.238494</td>\n",
       "      <td>-0.237410</td>\n",
       "      <td>-0.237410</td>\n",
       "    </tr>\n",
       "    <tr>\n",
       "      <th>9</th>\n",
       "      <td>-0.833333</td>\n",
       "      <td>0.000</td>\n",
       "      <td>1.243902</td>\n",
       "      <td>1.104603</td>\n",
       "      <td>1.104317</td>\n",
       "      <td>1.104317</td>\n",
       "    </tr>\n",
       "    <tr>\n",
       "      <th>64</th>\n",
       "      <td>-0.833333</td>\n",
       "      <td>0.500</td>\n",
       "      <td>0.585366</td>\n",
       "      <td>0.728033</td>\n",
       "      <td>0.726619</td>\n",
       "      <td>0.726619</td>\n",
       "    </tr>\n",
       "    <tr>\n",
       "      <th>...</th>\n",
       "      <td>...</td>\n",
       "      <td>...</td>\n",
       "      <td>...</td>\n",
       "      <td>...</td>\n",
       "      <td>...</td>\n",
       "      <td>...</td>\n",
       "    </tr>\n",
       "    <tr>\n",
       "      <th>20</th>\n",
       "      <td>-0.833333</td>\n",
       "      <td>0.000</td>\n",
       "      <td>1.243902</td>\n",
       "      <td>2.016736</td>\n",
       "      <td>2.014388</td>\n",
       "      <td>2.014388</td>\n",
       "    </tr>\n",
       "    <tr>\n",
       "      <th>60</th>\n",
       "      <td>0.000000</td>\n",
       "      <td>0.875</td>\n",
       "      <td>0.101626</td>\n",
       "      <td>0.133891</td>\n",
       "      <td>0.133094</td>\n",
       "      <td>0.133094</td>\n",
       "    </tr>\n",
       "    <tr>\n",
       "      <th>71</th>\n",
       "      <td>0.500000</td>\n",
       "      <td>-0.250</td>\n",
       "      <td>-0.658537</td>\n",
       "      <td>-0.305439</td>\n",
       "      <td>-0.305755</td>\n",
       "      <td>-0.305755</td>\n",
       "    </tr>\n",
       "    <tr>\n",
       "      <th>14</th>\n",
       "      <td>-0.166667</td>\n",
       "      <td>0.000</td>\n",
       "      <td>1.243902</td>\n",
       "      <td>1.255230</td>\n",
       "      <td>1.255396</td>\n",
       "      <td>1.255396</td>\n",
       "    </tr>\n",
       "    <tr>\n",
       "      <th>51</th>\n",
       "      <td>0.500000</td>\n",
       "      <td>-0.250</td>\n",
       "      <td>-0.658537</td>\n",
       "      <td>-0.305439</td>\n",
       "      <td>-0.305755</td>\n",
       "      <td>-0.305755</td>\n",
       "    </tr>\n",
       "  </tbody>\n",
       "</table>\n",
       "<p>64 rows × 6 columns</p>\n",
       "</div>"
      ],
      "text/plain": [
       "      Region  Moody's rating  Rating-based Default Spread  \\\n",
       "61  0.000000           0.875                     0.101626   \n",
       "55 -0.166667           0.625                    -0.105691   \n",
       "40 -0.666667          -0.500                    -0.487805   \n",
       "9  -0.833333           0.000                     1.243902   \n",
       "64 -0.833333           0.500                     0.585366   \n",
       "..       ...             ...                          ...   \n",
       "20 -0.833333           0.000                     1.243902   \n",
       "60  0.000000           0.875                     0.101626   \n",
       "71  0.500000          -0.250                    -0.658537   \n",
       "14 -0.166667           0.000                     1.243902   \n",
       "51  0.500000          -0.250                    -0.658537   \n",
       "\n",
       "    Sovereign CDS, net of US  Total Equity Risk Premium2  \\\n",
       "61                  0.326360                    0.327338   \n",
       "55                  0.163180                    0.161871   \n",
       "40                 -0.238494                   -0.237410   \n",
       "9                   1.104603                    1.104317   \n",
       "64                  0.728033                    0.726619   \n",
       "..                       ...                         ...   \n",
       "20                  2.016736                    2.014388   \n",
       "60                  0.133891                    0.133094   \n",
       "71                 -0.305439                   -0.305755   \n",
       "14                  1.255230                    1.255396   \n",
       "51                 -0.305439                   -0.305755   \n",
       "\n",
       "    Country Risk Premium3  \n",
       "61               0.327338  \n",
       "55               0.161871  \n",
       "40              -0.237410  \n",
       "9                1.104317  \n",
       "64               0.726619  \n",
       "..                    ...  \n",
       "20               2.014388  \n",
       "60               0.133094  \n",
       "71              -0.305755  \n",
       "14               1.255396  \n",
       "51              -0.305755  \n",
       "\n",
       "[64 rows x 6 columns]"
      ]
     },
     "execution_count": 56,
     "metadata": {},
     "output_type": "execute_result"
    }
   ],
   "source": [
    "X1 = df_ERP_scaled.drop(columns = [\"Country Risk Premium\", \"Total Equity Risk Premium\"])\n",
    "Y1 = df_ERP_scaled[\"Country Risk Premium\"]\n",
    "\n",
    "X1_train, X1_test, Y1_train, Y1_test = train_test_split(X1,Y1, test_size = 0.2, random_state = 42)\n",
    "X1_train"
   ]
  },
  {
   "cell_type": "code",
   "execution_count": 57,
   "id": "1b8fa7d6-0bfb-4dbf-9e6b-2da266ddfa78",
   "metadata": {},
   "outputs": [
    {
     "data": {
      "text/plain": [
       "array([ 3.61556040e-04, -9.52214920e-04,  1.00006582e+00, -2.12785235e-01,\n",
       "        1.06454314e-01,  1.06454314e-01])"
      ]
     },
     "execution_count": 57,
     "metadata": {},
     "output_type": "execute_result"
    }
   ],
   "source": [
    "lin_reg = LinearRegression()\n",
    "lin_reg.fit(X1_train, Y1_train)\n",
    "lin_reg.coef_"
   ]
  },
  {
   "cell_type": "code",
   "execution_count": 58,
   "id": "19f2f059-fd22-4e25-8d8b-18c1487e33a2",
   "metadata": {},
   "outputs": [
    {
     "data": {
      "text/plain": [
       "array([-0.36336184, -0.48629651, -0.41216905,  0.10164845, -0.65683125,\n",
       "       -0.44947792, -0.65724575,  2.45454692, -0.51825369, -0.41257278,\n",
       "        1.59086612,  1.9349778 , -0.24191307, -0.41202257,  0.38263695,\n",
       "       -0.10470825, -0.1054821 ])"
      ]
     },
     "execution_count": 58,
     "metadata": {},
     "output_type": "execute_result"
    }
   ],
   "source": [
    "y1_pred = lin_reg.predict(X1_test)\n",
    "y1_pred"
   ]
  },
  {
   "cell_type": "code",
   "execution_count": 59,
   "id": "72d0e936-99be-4300-a284-42da8d032acb",
   "metadata": {},
   "outputs": [
    {
     "name": "stdout",
     "output_type": "stream",
     "text": [
      "MSE: 1.6295321800073566e-06\n",
      "MAE: 0.0008507473067720454\n",
      "R2-Score: 0.9999981009238726\n"
     ]
    }
   ],
   "source": [
    "print(\"MSE: \" + str(mse(Y1_test, y1_pred)))\n",
    "print(\"MAE: \" + str(mae(Y1_test, y1_pred)))\n",
    "print(\"R2-Score: \" + str(r2_score(Y1_test, y1_pred)))"
   ]
  },
  {
   "cell_type": "markdown",
   "id": "687df02d-a2ef-4acc-9360-51a361feb28a",
   "metadata": {},
   "source": [
    "\n",
    "Teil 2 der Einzelübung bis kommender Woche"
   ]
  }
 ],
 "metadata": {
  "kernelspec": {
   "display_name": "Python [conda env:tensor26] *",
   "language": "python",
   "name": "conda-env-tensor26-py"
  },
  "language_info": {
   "codemirror_mode": {
    "name": "ipython",
    "version": 3
   },
   "file_extension": ".py",
   "mimetype": "text/x-python",
   "name": "python",
   "nbconvert_exporter": "python",
   "pygments_lexer": "ipython3",
   "version": "3.8.13"
  }
 },
 "nbformat": 4,
 "nbformat_minor": 5
}
