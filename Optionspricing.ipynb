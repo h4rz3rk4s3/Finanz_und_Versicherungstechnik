{
 "cells": [
  {
   "cell_type": "code",
   "execution_count": 1,
   "metadata": {},
   "outputs": [],
   "source": [
    "import numpy as np\n",
    "import pandas as pd\n",
    "from datetime import datetime, date\n",
    "import requests\n",
    "import time\n",
    "import pickle\n",
    "import pandas_datareader as web"
   ]
  },
  {
   "cell_type": "code",
   "execution_count": 2,
   "metadata": {},
   "outputs": [],
   "source": [
    "# Access stock symbols from csv\n",
    "symbols = pd.read_csv(\"Symbol_DAX.csv\", delimiter=\";\")\n",
    "symbols = symbols[\"Symbol\"]"
   ]
  },
  {
   "cell_type": "code",
   "execution_count": 3,
   "metadata": {},
   "outputs": [],
   "source": [
    "URL_AlphaVantage = \"https://www.alphavantage.co/query?\""
   ]
  },
  {
   "cell_type": "code",
   "execution_count": 4,
   "metadata": {},
   "outputs": [],
   "source": [
    "today = date.today()\n",
    "one_year_ago = today.replace(year=today.year-1)"
   ]
  },
  {
   "cell_type": "code",
   "execution_count": 7,
   "metadata": {},
   "outputs": [],
   "source": [
    "#API Call with multiple stock symbols\n",
    "#symbols= [\"ADDYY\",\"AIR\",\"ALV\",\"BAS\",\"BAYN\", \"BMW\",\"BNR\",\"CON\",\"1COV\",\"DTG\",\"DHER\",\"DBK\",\"DB1\",\"DPW\",\"DTE\",\"EOAN\",\"FRE\",\"FME\",\"HNR1\",\"HEI\",\"HFG\",\"HEN3\",\"IFX\",\"LIN\",\"MBG\",\"MRK\",\"MTX\",\"MUV2\",\"PAH3\",\"PUM\",\"QIA\",\"RWE\",\"SAP\",\"SRT3\",\"SIE\",\"SHL\",\"SY1\",\"VOW3\",\"VNA\",\"ZAL\"]\n",
    "av_key = \"C8QYMTKO2IMFJD27\"\n",
    "df_dict = {}\n",
    "for symbol in symbols:\n",
    "    stock = web.DataReader(symbol, 'av-daily', one_year_ago, today, api_key = av_key)\n",
    "    \n",
    "    df_dict[symbol] = stock\n",
    "    time.sleep(30)"
   ]
  },
  {
   "cell_type": "code",
   "execution_count": 8,
   "metadata": {},
   "outputs": [],
   "source": [
    "# Saving dictionary as pickle for later use \n",
    "pickle.dump( df_dict, open(\"stock_timeseries_dict.p\", \"wb\" ) )\n",
    "\n",
    "# To open pickle uncomment the following code:\n",
    "# df_dict = pickle.load( open( \"stock_timeseries_dict.p\", \"rb\" ) )"
   ]
  },
  {
   "cell_type": "code",
   "execution_count": 9,
   "metadata": {},
   "outputs": [],
   "source": [
    "df_dict = pickle.load( open(\"stock_timeseries_dict.p\", \"rb\" ) )"
   ]
  },
  {
   "cell_type": "markdown",
   "metadata": {},
   "source": [
    "### Accessing FRED API to scrape Germanys Risk Free Rate"
   ]
  },
  {
   "cell_type": "code",
   "execution_count": 10,
   "metadata": {},
   "outputs": [],
   "source": [
    "# Access Long-Term Government Bond Yields of Germany via FRED API\n",
    "URL_FRED = \"https://api.stlouisfed.org/fred/series/observations?\"\n",
    "risk_params= {\n",
    "    \"api_key\": \"39ffc8e6f6c49a0a690ca8b875d15488\",\n",
    "    \"series_id\": \"IRLTLT01DEM156N\",\n",
    "    \"file_type\": \"json\",\n",
    "    \"observation_start\": \"2020-01-01\"\n",
    "}\n",
    "\n",
    "response_risk = requests.get(URL_FRED, params=risk_params)\n",
    "json_risk = response_risk.json()[\"observations\"]\n",
    "\n",
    "df_risk = pd.DataFrame(json_risk)"
   ]
  },
  {
   "cell_type": "code",
   "execution_count": 11,
   "metadata": {},
   "outputs": [
    {
     "data": {
      "text/html": [
       "<div>\n",
       "<style scoped>\n",
       "    .dataframe tbody tr th:only-of-type {\n",
       "        vertical-align: middle;\n",
       "    }\n",
       "\n",
       "    .dataframe tbody tr th {\n",
       "        vertical-align: top;\n",
       "    }\n",
       "\n",
       "    .dataframe thead th {\n",
       "        text-align: right;\n",
       "    }\n",
       "</style>\n",
       "<table border=\"1\" class=\"dataframe\">\n",
       "  <thead>\n",
       "    <tr style=\"text-align: right;\">\n",
       "      <th></th>\n",
       "      <th>realtime_start</th>\n",
       "      <th>realtime_end</th>\n",
       "      <th>date</th>\n",
       "      <th>value</th>\n",
       "    </tr>\n",
       "  </thead>\n",
       "  <tbody>\n",
       "    <tr>\n",
       "      <th>0</th>\n",
       "      <td>2022-05-30</td>\n",
       "      <td>2022-05-30</td>\n",
       "      <td>2020-01-01</td>\n",
       "      <td>-0.313636364</td>\n",
       "    </tr>\n",
       "    <tr>\n",
       "      <th>1</th>\n",
       "      <td>2022-05-30</td>\n",
       "      <td>2022-05-30</td>\n",
       "      <td>2020-02-01</td>\n",
       "      <td>-0.466</td>\n",
       "    </tr>\n",
       "    <tr>\n",
       "      <th>2</th>\n",
       "      <td>2022-05-30</td>\n",
       "      <td>2022-05-30</td>\n",
       "      <td>2020-03-01</td>\n",
       "      <td>-0.541363636</td>\n",
       "    </tr>\n",
       "    <tr>\n",
       "      <th>3</th>\n",
       "      <td>2022-05-30</td>\n",
       "      <td>2022-05-30</td>\n",
       "      <td>2020-04-01</td>\n",
       "      <td>-0.4495</td>\n",
       "    </tr>\n",
       "    <tr>\n",
       "      <th>4</th>\n",
       "      <td>2022-05-30</td>\n",
       "      <td>2022-05-30</td>\n",
       "      <td>2020-05-01</td>\n",
       "      <td>-0.5165</td>\n",
       "    </tr>\n",
       "  </tbody>\n",
       "</table>\n",
       "</div>"
      ],
      "text/plain": [
       "  realtime_start realtime_end        date         value\n",
       "0     2022-05-30   2022-05-30  2020-01-01  -0.313636364\n",
       "1     2022-05-30   2022-05-30  2020-02-01        -0.466\n",
       "2     2022-05-30   2022-05-30  2020-03-01  -0.541363636\n",
       "3     2022-05-30   2022-05-30  2020-04-01       -0.4495\n",
       "4     2022-05-30   2022-05-30  2020-05-01       -0.5165"
      ]
     },
     "execution_count": 11,
     "metadata": {},
     "output_type": "execute_result"
    }
   ],
   "source": [
    "df_risk.head()"
   ]
  },
  {
   "cell_type": "code",
   "execution_count": 12,
   "metadata": {},
   "outputs": [
    {
     "data": {
      "text/plain": [
       "realtime_start    object\n",
       "realtime_end      object\n",
       "date              object\n",
       "value             object\n",
       "dtype: object"
      ]
     },
     "execution_count": 12,
     "metadata": {},
     "output_type": "execute_result"
    }
   ],
   "source": [
    "df_risk.dtypes"
   ]
  },
  {
   "cell_type": "code",
   "execution_count": 13,
   "metadata": {},
   "outputs": [],
   "source": [
    "df_risk[\"value\"]=df_risk[\"value\"].astype(\"float\")\n",
    "df_risk[\"realtime_start\"]=pd.to_datetime(df_risk[\"realtime_start\"], format=\"%Y-%m-%d\")\n",
    "df_risk[\"realtime_end\"]=pd.to_datetime(df_risk[\"realtime_end\"], format=\"%Y-%m-%d\")\n",
    "df_risk[\"date\"]=pd.to_datetime(df_risk[\"date\"], format=\"%Y-%m-%d\")"
   ]
  },
  {
   "cell_type": "code",
   "execution_count": 14,
   "metadata": {},
   "outputs": [
    {
     "data": {
      "text/plain": [
       "realtime_start    datetime64[ns]\n",
       "realtime_end      datetime64[ns]\n",
       "date              datetime64[ns]\n",
       "value                    float64\n",
       "dtype: object"
      ]
     },
     "execution_count": 14,
     "metadata": {},
     "output_type": "execute_result"
    }
   ],
   "source": [
    "df_risk.dtypes"
   ]
  },
  {
   "cell_type": "code",
   "execution_count": 15,
   "metadata": {},
   "outputs": [],
   "source": [
    "#Transform percent value into decimal\n",
    "df_risk[\"value\"] =df_risk[\"value\"].divide(100)"
   ]
  },
  {
   "cell_type": "code",
   "execution_count": 16,
   "metadata": {},
   "outputs": [
    {
     "data": {
      "text/html": [
       "<div>\n",
       "<style scoped>\n",
       "    .dataframe tbody tr th:only-of-type {\n",
       "        vertical-align: middle;\n",
       "    }\n",
       "\n",
       "    .dataframe tbody tr th {\n",
       "        vertical-align: top;\n",
       "    }\n",
       "\n",
       "    .dataframe thead th {\n",
       "        text-align: right;\n",
       "    }\n",
       "</style>\n",
       "<table border=\"1\" class=\"dataframe\">\n",
       "  <thead>\n",
       "    <tr style=\"text-align: right;\">\n",
       "      <th></th>\n",
       "      <th>realtime_start</th>\n",
       "      <th>realtime_end</th>\n",
       "      <th>date</th>\n",
       "      <th>value</th>\n",
       "    </tr>\n",
       "  </thead>\n",
       "  <tbody>\n",
       "    <tr>\n",
       "      <th>0</th>\n",
       "      <td>2022-05-30</td>\n",
       "      <td>2022-05-30</td>\n",
       "      <td>2020-01-01</td>\n",
       "      <td>-0.003136</td>\n",
       "    </tr>\n",
       "    <tr>\n",
       "      <th>1</th>\n",
       "      <td>2022-05-30</td>\n",
       "      <td>2022-05-30</td>\n",
       "      <td>2020-02-01</td>\n",
       "      <td>-0.004660</td>\n",
       "    </tr>\n",
       "    <tr>\n",
       "      <th>2</th>\n",
       "      <td>2022-05-30</td>\n",
       "      <td>2022-05-30</td>\n",
       "      <td>2020-03-01</td>\n",
       "      <td>-0.005414</td>\n",
       "    </tr>\n",
       "    <tr>\n",
       "      <th>3</th>\n",
       "      <td>2022-05-30</td>\n",
       "      <td>2022-05-30</td>\n",
       "      <td>2020-04-01</td>\n",
       "      <td>-0.004495</td>\n",
       "    </tr>\n",
       "    <tr>\n",
       "      <th>4</th>\n",
       "      <td>2022-05-30</td>\n",
       "      <td>2022-05-30</td>\n",
       "      <td>2020-05-01</td>\n",
       "      <td>-0.005165</td>\n",
       "    </tr>\n",
       "  </tbody>\n",
       "</table>\n",
       "</div>"
      ],
      "text/plain": [
       "  realtime_start realtime_end       date     value\n",
       "0     2022-05-30   2022-05-30 2020-01-01 -0.003136\n",
       "1     2022-05-30   2022-05-30 2020-02-01 -0.004660\n",
       "2     2022-05-30   2022-05-30 2020-03-01 -0.005414\n",
       "3     2022-05-30   2022-05-30 2020-04-01 -0.004495\n",
       "4     2022-05-30   2022-05-30 2020-05-01 -0.005165"
      ]
     },
     "execution_count": 16,
     "metadata": {},
     "output_type": "execute_result"
    }
   ],
   "source": [
    "df_risk.head()"
   ]
  },
  {
   "cell_type": "code",
   "execution_count": 17,
   "metadata": {},
   "outputs": [],
   "source": [
    "# Save data as csv and pickle\n",
    "df_risk.to_csv(\"risk_free_rate.csv\", index=False)\n",
    "pickle.dump(df_risk, open(\"risk_free_rate.p\", \"wb\" ))"
   ]
  },
  {
   "cell_type": "code",
   "execution_count": null,
   "metadata": {},
   "outputs": [],
   "source": []
  }
 ],
 "metadata": {
  "interpreter": {
   "hash": "e89da79de93cda806cc311bbda9a1bde206945954321c13510f664a0f70e3baf"
  },
  "kernelspec": {
   "display_name": "Python 3 (ipykernel)",
   "language": "python",
   "name": "python3"
  },
  "language_info": {
   "codemirror_mode": {
    "name": "ipython",
    "version": 3
   },
   "file_extension": ".py",
   "mimetype": "text/x-python",
   "name": "python",
   "nbconvert_exporter": "python",
   "pygments_lexer": "ipython3",
   "version": "3.9.12"
  }
 },
 "nbformat": 4,
 "nbformat_minor": 4
}
